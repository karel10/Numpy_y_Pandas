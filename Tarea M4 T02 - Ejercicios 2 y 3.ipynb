{
 "cells": [
  {
   "cell_type": "code",
   "execution_count": 1,
   "id": "48dbb240",
   "metadata": {},
   "outputs": [],
   "source": [
    "# importing libraries\n",
    "import numpy as np\n",
    "import pandas as pd\n",
    "import matplotlib.pyplot as plt\n",
    "import seaborn as sns\n",
    "import warnings\n",
    "import re\n",
    "\n",
    "warnings.filterwarnings('ignore')"
   ]
  },
  {
   "cell_type": "markdown",
   "id": "de23be83",
   "metadata": {},
   "source": [
    "Para leer correctamente el archivo .dat tendremos que seguir un procedimiento algo diferente que con ficheros .csv o .json.\n",
    "No hay una cabecera con títulos, así que primero especificamos los campos que vemos que hay, que podemos deducir por lo que vemos en: https://github.com/BIDDL3/PRE-PROCESSING-DATA/blob/main/movies.dat \n"
   ]
  },
  {
   "cell_type": "markdown",
   "id": "72033a32",
   "metadata": {},
   "source": [
    "# Ejercicio 2: Preprocesado, adecuación y preparación del dataset"
   ]
  },
  {
   "cell_type": "code",
   "execution_count": 2,
   "id": "1f7cf985",
   "metadata": {},
   "outputs": [
    {
     "data": {
      "text/plain": [
       "['movie_id', 'titulo', 'genero']"
      ]
     },
     "execution_count": 2,
     "metadata": {},
     "output_type": "execute_result"
    }
   ],
   "source": [
    "mcabecera = ['movie_id', 'titulo', 'genero']\n",
    "mcabecera"
   ]
  },
  {
   "cell_type": "markdown",
   "id": "c13cc8b8",
   "metadata": {},
   "source": [
    "Para hacer correctamente la carga de los datos, hemos de especificar el tipo de codficación, que al parecer no es UTF-8 ya que da un error, sino ANSI (comprobado mediante Notepad++ en su sección \"Encoding\")."
   ]
  },
  {
   "cell_type": "code",
   "execution_count": 3,
   "id": "f3371ac9",
   "metadata": {
    "scrolled": false
   },
   "outputs": [
    {
     "data": {
      "text/html": [
       "<div>\n",
       "<style scoped>\n",
       "    .dataframe tbody tr th:only-of-type {\n",
       "        vertical-align: middle;\n",
       "    }\n",
       "\n",
       "    .dataframe tbody tr th {\n",
       "        vertical-align: top;\n",
       "    }\n",
       "\n",
       "    .dataframe thead th {\n",
       "        text-align: right;\n",
       "    }\n",
       "</style>\n",
       "<table border=\"1\" class=\"dataframe\">\n",
       "  <thead>\n",
       "    <tr style=\"text-align: right;\">\n",
       "      <th></th>\n",
       "      <th>movie_id</th>\n",
       "      <th>titulo</th>\n",
       "      <th>genero</th>\n",
       "    </tr>\n",
       "  </thead>\n",
       "  <tbody>\n",
       "    <tr>\n",
       "      <th>0</th>\n",
       "      <td>1</td>\n",
       "      <td>Toy Story (1995)</td>\n",
       "      <td>Animation|Children's|Comedy</td>\n",
       "    </tr>\n",
       "    <tr>\n",
       "      <th>1</th>\n",
       "      <td>2</td>\n",
       "      <td>Jumanji (1995)</td>\n",
       "      <td>Adventure|Children's|Fantasy</td>\n",
       "    </tr>\n",
       "    <tr>\n",
       "      <th>2</th>\n",
       "      <td>3</td>\n",
       "      <td>Grumpier Old Men (1995)</td>\n",
       "      <td>Comedy|Romance</td>\n",
       "    </tr>\n",
       "    <tr>\n",
       "      <th>3</th>\n",
       "      <td>4</td>\n",
       "      <td>Waiting to Exhale (1995)</td>\n",
       "      <td>Comedy|Drama</td>\n",
       "    </tr>\n",
       "    <tr>\n",
       "      <th>4</th>\n",
       "      <td>5</td>\n",
       "      <td>Father of the Bride Part II (1995)</td>\n",
       "      <td>Comedy</td>\n",
       "    </tr>\n",
       "  </tbody>\n",
       "</table>\n",
       "</div>"
      ],
      "text/plain": [
       "   movie_id                              titulo                        genero\n",
       "0         1                    Toy Story (1995)   Animation|Children's|Comedy\n",
       "1         2                      Jumanji (1995)  Adventure|Children's|Fantasy\n",
       "2         3             Grumpier Old Men (1995)                Comedy|Romance\n",
       "3         4            Waiting to Exhale (1995)                  Comedy|Drama\n",
       "4         5  Father of the Bride Part II (1995)                        Comedy"
      ]
     },
     "execution_count": 3,
     "metadata": {},
     "output_type": "execute_result"
    }
   ],
   "source": [
    "# Open the choosen file \n",
    "# (procedimiento modificado de: https://github.com/BIDDL3/PRE-PROCESSING-DATA/blob/main/01%20INTRODUCTION%20TO%20VARIABLES.ipynb)\n",
    "movies = pd.read_table('movies.dat', sep = '::', header = None, names = mcabecera, encoding = 'ANSI')\n",
    "# Nótese cómo especificamos el separador de dos doble puntos. para definir las columnas.\n",
    "# También véasecómo añadimos la cabecera, y especificamos la codificación, ANSI.\n",
    "movies.head()"
   ]
  },
  {
   "cell_type": "markdown",
   "id": "55e10bb8",
   "metadata": {},
   "source": [
    "Primero, hacemos un campo año (llamado \"anho\", a la portuguesa, para evitar el caracter \"ñ\"):"
   ]
  },
  {
   "cell_type": "code",
   "execution_count": 4,
   "id": "55c69a71",
   "metadata": {},
   "outputs": [],
   "source": [
    "movies['anho'] = movies['titulo'].str.extract(\"(\\(\\d\\d\\d\\d\\))\", expand=True)\n",
    "# Incluimos en el patrón de regex el paréntesis: pueden existir películas que incluyen un año en el nombre. Ejemplo: \"2001, una odiseo del espacio\".\n",
    "# https://stackoverflow.com/questions/60842297/pandas-extract-a-phrase-from-one-column-and-adding-it-to-a-new-column"
   ]
  },
  {
   "cell_type": "code",
   "execution_count": 5,
   "id": "ff5ade3b",
   "metadata": {},
   "outputs": [
    {
     "data": {
      "text/html": [
       "<div>\n",
       "<style scoped>\n",
       "    .dataframe tbody tr th:only-of-type {\n",
       "        vertical-align: middle;\n",
       "    }\n",
       "\n",
       "    .dataframe tbody tr th {\n",
       "        vertical-align: top;\n",
       "    }\n",
       "\n",
       "    .dataframe thead th {\n",
       "        text-align: right;\n",
       "    }\n",
       "</style>\n",
       "<table border=\"1\" class=\"dataframe\">\n",
       "  <thead>\n",
       "    <tr style=\"text-align: right;\">\n",
       "      <th></th>\n",
       "      <th>movie_id</th>\n",
       "      <th>titulo</th>\n",
       "      <th>genero</th>\n",
       "      <th>anho</th>\n",
       "    </tr>\n",
       "  </thead>\n",
       "  <tbody>\n",
       "    <tr>\n",
       "      <th>0</th>\n",
       "      <td>1</td>\n",
       "      <td>Toy Story (1995)</td>\n",
       "      <td>Animation|Children's|Comedy</td>\n",
       "      <td>(1995)</td>\n",
       "    </tr>\n",
       "    <tr>\n",
       "      <th>1</th>\n",
       "      <td>2</td>\n",
       "      <td>Jumanji (1995)</td>\n",
       "      <td>Adventure|Children's|Fantasy</td>\n",
       "      <td>(1995)</td>\n",
       "    </tr>\n",
       "    <tr>\n",
       "      <th>2</th>\n",
       "      <td>3</td>\n",
       "      <td>Grumpier Old Men (1995)</td>\n",
       "      <td>Comedy|Romance</td>\n",
       "      <td>(1995)</td>\n",
       "    </tr>\n",
       "    <tr>\n",
       "      <th>3</th>\n",
       "      <td>4</td>\n",
       "      <td>Waiting to Exhale (1995)</td>\n",
       "      <td>Comedy|Drama</td>\n",
       "      <td>(1995)</td>\n",
       "    </tr>\n",
       "    <tr>\n",
       "      <th>4</th>\n",
       "      <td>5</td>\n",
       "      <td>Father of the Bride Part II (1995)</td>\n",
       "      <td>Comedy</td>\n",
       "      <td>(1995)</td>\n",
       "    </tr>\n",
       "    <tr>\n",
       "      <th>...</th>\n",
       "      <td>...</td>\n",
       "      <td>...</td>\n",
       "      <td>...</td>\n",
       "      <td>...</td>\n",
       "    </tr>\n",
       "    <tr>\n",
       "      <th>3878</th>\n",
       "      <td>3948</td>\n",
       "      <td>Meet the Parents (2000)</td>\n",
       "      <td>Comedy</td>\n",
       "      <td>(2000)</td>\n",
       "    </tr>\n",
       "    <tr>\n",
       "      <th>3879</th>\n",
       "      <td>3949</td>\n",
       "      <td>Requiem for a Dream (2000)</td>\n",
       "      <td>Drama</td>\n",
       "      <td>(2000)</td>\n",
       "    </tr>\n",
       "    <tr>\n",
       "      <th>3880</th>\n",
       "      <td>3950</td>\n",
       "      <td>Tigerland (2000)</td>\n",
       "      <td>Drama</td>\n",
       "      <td>(2000)</td>\n",
       "    </tr>\n",
       "    <tr>\n",
       "      <th>3881</th>\n",
       "      <td>3951</td>\n",
       "      <td>Two Family House (2000)</td>\n",
       "      <td>Drama</td>\n",
       "      <td>(2000)</td>\n",
       "    </tr>\n",
       "    <tr>\n",
       "      <th>3882</th>\n",
       "      <td>3952</td>\n",
       "      <td>Contender, The (2000)</td>\n",
       "      <td>Drama|Thriller</td>\n",
       "      <td>(2000)</td>\n",
       "    </tr>\n",
       "  </tbody>\n",
       "</table>\n",
       "<p>3883 rows × 4 columns</p>\n",
       "</div>"
      ],
      "text/plain": [
       "      movie_id                              titulo  \\\n",
       "0            1                    Toy Story (1995)   \n",
       "1            2                      Jumanji (1995)   \n",
       "2            3             Grumpier Old Men (1995)   \n",
       "3            4            Waiting to Exhale (1995)   \n",
       "4            5  Father of the Bride Part II (1995)   \n",
       "...        ...                                 ...   \n",
       "3878      3948             Meet the Parents (2000)   \n",
       "3879      3949          Requiem for a Dream (2000)   \n",
       "3880      3950                    Tigerland (2000)   \n",
       "3881      3951             Two Family House (2000)   \n",
       "3882      3952               Contender, The (2000)   \n",
       "\n",
       "                            genero    anho  \n",
       "0      Animation|Children's|Comedy  (1995)  \n",
       "1     Adventure|Children's|Fantasy  (1995)  \n",
       "2                   Comedy|Romance  (1995)  \n",
       "3                     Comedy|Drama  (1995)  \n",
       "4                           Comedy  (1995)  \n",
       "...                            ...     ...  \n",
       "3878                        Comedy  (2000)  \n",
       "3879                         Drama  (2000)  \n",
       "3880                         Drama  (2000)  \n",
       "3881                         Drama  (2000)  \n",
       "3882                Drama|Thriller  (2000)  \n",
       "\n",
       "[3883 rows x 4 columns]"
      ]
     },
     "execution_count": 5,
     "metadata": {},
     "output_type": "execute_result"
    }
   ],
   "source": [
    "movies  # Hemos conseguido extraer el año de cada película, pero con los paréntesis."
   ]
  },
  {
   "cell_type": "code",
   "execution_count": 6,
   "id": "f2cc2d77",
   "metadata": {},
   "outputs": [
    {
     "data": {
      "text/html": [
       "<div>\n",
       "<style scoped>\n",
       "    .dataframe tbody tr th:only-of-type {\n",
       "        vertical-align: middle;\n",
       "    }\n",
       "\n",
       "    .dataframe tbody tr th {\n",
       "        vertical-align: top;\n",
       "    }\n",
       "\n",
       "    .dataframe thead th {\n",
       "        text-align: right;\n",
       "    }\n",
       "</style>\n",
       "<table border=\"1\" class=\"dataframe\">\n",
       "  <thead>\n",
       "    <tr style=\"text-align: right;\">\n",
       "      <th></th>\n",
       "      <th>movie_id</th>\n",
       "      <th>titulo</th>\n",
       "      <th>genero</th>\n",
       "      <th>anho</th>\n",
       "    </tr>\n",
       "  </thead>\n",
       "  <tbody>\n",
       "    <tr>\n",
       "      <th>3878</th>\n",
       "      <td>3948</td>\n",
       "      <td>Meet the Parents (2000)</td>\n",
       "      <td>Comedy</td>\n",
       "      <td>(2000)</td>\n",
       "    </tr>\n",
       "    <tr>\n",
       "      <th>3879</th>\n",
       "      <td>3949</td>\n",
       "      <td>Requiem for a Dream (2000)</td>\n",
       "      <td>Drama</td>\n",
       "      <td>(2000)</td>\n",
       "    </tr>\n",
       "    <tr>\n",
       "      <th>3880</th>\n",
       "      <td>3950</td>\n",
       "      <td>Tigerland (2000)</td>\n",
       "      <td>Drama</td>\n",
       "      <td>(2000)</td>\n",
       "    </tr>\n",
       "    <tr>\n",
       "      <th>3881</th>\n",
       "      <td>3951</td>\n",
       "      <td>Two Family House (2000)</td>\n",
       "      <td>Drama</td>\n",
       "      <td>(2000)</td>\n",
       "    </tr>\n",
       "    <tr>\n",
       "      <th>3882</th>\n",
       "      <td>3952</td>\n",
       "      <td>Contender, The (2000)</td>\n",
       "      <td>Drama|Thriller</td>\n",
       "      <td>(2000)</td>\n",
       "    </tr>\n",
       "  </tbody>\n",
       "</table>\n",
       "</div>"
      ],
      "text/plain": [
       "      movie_id                      titulo          genero    anho\n",
       "3878      3948     Meet the Parents (2000)          Comedy  (2000)\n",
       "3879      3949  Requiem for a Dream (2000)           Drama  (2000)\n",
       "3880      3950            Tigerland (2000)           Drama  (2000)\n",
       "3881      3951     Two Family House (2000)           Drama  (2000)\n",
       "3882      3952       Contender, The (2000)  Drama|Thriller  (2000)"
      ]
     },
     "execution_count": 6,
     "metadata": {},
     "output_type": "execute_result"
    }
   ],
   "source": [
    "movies.tail()"
   ]
  },
  {
   "cell_type": "markdown",
   "id": "e95bcd78",
   "metadata": {},
   "source": [
    "Hemos extraído los años como lo hemos hecho, incluyendo el paréntesis, para no llevarnos valores que no corresponde y que realmente forman parte de un título (un conocido ejemplo: 2001, Odisea en el Espacio). Pero ahora conviene eliminar el paréntesis. Podríamos por ejemplo hacerlo mediante un replace, o volviendo a aplicar un \"extract\", sobreescribiendo."
   ]
  },
  {
   "cell_type": "markdown",
   "id": "96b9c990",
   "metadata": {},
   "source": [
    "Quitamos el año y el paréntesis del campo \"titulo\". En base al comentario recién recibido sobre que no he usado explícitamente los procedimientos del paquete \"re\" de expresiones regulares: hagámoslo ahora, por variar de procedimiento."
   ]
  },
  {
   "cell_type": "code",
   "execution_count": 7,
   "id": "f2927867",
   "metadata": {},
   "outputs": [
    {
     "data": {
      "text/plain": [
       "3883"
      ]
     },
     "execution_count": 7,
     "metadata": {},
     "output_type": "execute_result"
    }
   ],
   "source": [
    "len(movies['titulo'])"
   ]
  },
  {
   "cell_type": "code",
   "execution_count": 8,
   "id": "fd951aa9",
   "metadata": {},
   "outputs": [],
   "source": [
    "# Con lo siguiente, quedará sobreescrita la columna del año, eliminando el paréntesis:\n",
    "movies['anho'] = movies['anho'].str.extract(\"(\\d\\d\\d\\d)\", expand=True)"
   ]
  },
  {
   "cell_type": "code",
   "execution_count": 9,
   "id": "39661aea",
   "metadata": {
    "scrolled": true
   },
   "outputs": [
    {
     "data": {
      "text/html": [
       "<div>\n",
       "<style scoped>\n",
       "    .dataframe tbody tr th:only-of-type {\n",
       "        vertical-align: middle;\n",
       "    }\n",
       "\n",
       "    .dataframe tbody tr th {\n",
       "        vertical-align: top;\n",
       "    }\n",
       "\n",
       "    .dataframe thead th {\n",
       "        text-align: right;\n",
       "    }\n",
       "</style>\n",
       "<table border=\"1\" class=\"dataframe\">\n",
       "  <thead>\n",
       "    <tr style=\"text-align: right;\">\n",
       "      <th></th>\n",
       "      <th>movie_id</th>\n",
       "      <th>titulo</th>\n",
       "      <th>genero</th>\n",
       "      <th>anho</th>\n",
       "    </tr>\n",
       "  </thead>\n",
       "  <tbody>\n",
       "    <tr>\n",
       "      <th>0</th>\n",
       "      <td>1</td>\n",
       "      <td>Toy Story (1995)</td>\n",
       "      <td>Animation|Children's|Comedy</td>\n",
       "      <td>1995</td>\n",
       "    </tr>\n",
       "    <tr>\n",
       "      <th>1</th>\n",
       "      <td>2</td>\n",
       "      <td>Jumanji (1995)</td>\n",
       "      <td>Adventure|Children's|Fantasy</td>\n",
       "      <td>1995</td>\n",
       "    </tr>\n",
       "    <tr>\n",
       "      <th>2</th>\n",
       "      <td>3</td>\n",
       "      <td>Grumpier Old Men (1995)</td>\n",
       "      <td>Comedy|Romance</td>\n",
       "      <td>1995</td>\n",
       "    </tr>\n",
       "    <tr>\n",
       "      <th>3</th>\n",
       "      <td>4</td>\n",
       "      <td>Waiting to Exhale (1995)</td>\n",
       "      <td>Comedy|Drama</td>\n",
       "      <td>1995</td>\n",
       "    </tr>\n",
       "    <tr>\n",
       "      <th>4</th>\n",
       "      <td>5</td>\n",
       "      <td>Father of the Bride Part II (1995)</td>\n",
       "      <td>Comedy</td>\n",
       "      <td>1995</td>\n",
       "    </tr>\n",
       "    <tr>\n",
       "      <th>...</th>\n",
       "      <td>...</td>\n",
       "      <td>...</td>\n",
       "      <td>...</td>\n",
       "      <td>...</td>\n",
       "    </tr>\n",
       "    <tr>\n",
       "      <th>3878</th>\n",
       "      <td>3948</td>\n",
       "      <td>Meet the Parents (2000)</td>\n",
       "      <td>Comedy</td>\n",
       "      <td>2000</td>\n",
       "    </tr>\n",
       "    <tr>\n",
       "      <th>3879</th>\n",
       "      <td>3949</td>\n",
       "      <td>Requiem for a Dream (2000)</td>\n",
       "      <td>Drama</td>\n",
       "      <td>2000</td>\n",
       "    </tr>\n",
       "    <tr>\n",
       "      <th>3880</th>\n",
       "      <td>3950</td>\n",
       "      <td>Tigerland (2000)</td>\n",
       "      <td>Drama</td>\n",
       "      <td>2000</td>\n",
       "    </tr>\n",
       "    <tr>\n",
       "      <th>3881</th>\n",
       "      <td>3951</td>\n",
       "      <td>Two Family House (2000)</td>\n",
       "      <td>Drama</td>\n",
       "      <td>2000</td>\n",
       "    </tr>\n",
       "    <tr>\n",
       "      <th>3882</th>\n",
       "      <td>3952</td>\n",
       "      <td>Contender, The (2000)</td>\n",
       "      <td>Drama|Thriller</td>\n",
       "      <td>2000</td>\n",
       "    </tr>\n",
       "  </tbody>\n",
       "</table>\n",
       "<p>3883 rows × 4 columns</p>\n",
       "</div>"
      ],
      "text/plain": [
       "      movie_id                              titulo  \\\n",
       "0            1                    Toy Story (1995)   \n",
       "1            2                      Jumanji (1995)   \n",
       "2            3             Grumpier Old Men (1995)   \n",
       "3            4            Waiting to Exhale (1995)   \n",
       "4            5  Father of the Bride Part II (1995)   \n",
       "...        ...                                 ...   \n",
       "3878      3948             Meet the Parents (2000)   \n",
       "3879      3949          Requiem for a Dream (2000)   \n",
       "3880      3950                    Tigerland (2000)   \n",
       "3881      3951             Two Family House (2000)   \n",
       "3882      3952               Contender, The (2000)   \n",
       "\n",
       "                            genero  anho  \n",
       "0      Animation|Children's|Comedy  1995  \n",
       "1     Adventure|Children's|Fantasy  1995  \n",
       "2                   Comedy|Romance  1995  \n",
       "3                     Comedy|Drama  1995  \n",
       "4                           Comedy  1995  \n",
       "...                            ...   ...  \n",
       "3878                        Comedy  2000  \n",
       "3879                         Drama  2000  \n",
       "3880                         Drama  2000  \n",
       "3881                         Drama  2000  \n",
       "3882                Drama|Thriller  2000  \n",
       "\n",
       "[3883 rows x 4 columns]"
      ]
     },
     "execution_count": 9,
     "metadata": {},
     "output_type": "execute_result"
    }
   ],
   "source": [
    "movies"
   ]
  },
  {
   "cell_type": "markdown",
   "id": "d19ae975",
   "metadata": {},
   "source": [
    "Ahora hemos de eliminar el año del final de cada título."
   ]
  },
  {
   "cell_type": "code",
   "execution_count": 10,
   "id": "cef1a6b8",
   "metadata": {},
   "outputs": [],
   "source": [
    "movies['titulo'] = movies['titulo'].str.replace('\\s\\(\\d{4}\\)$', '', regex=True)"
   ]
  },
  {
   "cell_type": "code",
   "execution_count": 11,
   "id": "626a3e06",
   "metadata": {
    "scrolled": true
   },
   "outputs": [
    {
     "data": {
      "text/html": [
       "<div>\n",
       "<style scoped>\n",
       "    .dataframe tbody tr th:only-of-type {\n",
       "        vertical-align: middle;\n",
       "    }\n",
       "\n",
       "    .dataframe tbody tr th {\n",
       "        vertical-align: top;\n",
       "    }\n",
       "\n",
       "    .dataframe thead th {\n",
       "        text-align: right;\n",
       "    }\n",
       "</style>\n",
       "<table border=\"1\" class=\"dataframe\">\n",
       "  <thead>\n",
       "    <tr style=\"text-align: right;\">\n",
       "      <th></th>\n",
       "      <th>movie_id</th>\n",
       "      <th>titulo</th>\n",
       "      <th>genero</th>\n",
       "      <th>anho</th>\n",
       "    </tr>\n",
       "  </thead>\n",
       "  <tbody>\n",
       "    <tr>\n",
       "      <th>0</th>\n",
       "      <td>1</td>\n",
       "      <td>Toy Story</td>\n",
       "      <td>Animation|Children's|Comedy</td>\n",
       "      <td>1995</td>\n",
       "    </tr>\n",
       "    <tr>\n",
       "      <th>1</th>\n",
       "      <td>2</td>\n",
       "      <td>Jumanji</td>\n",
       "      <td>Adventure|Children's|Fantasy</td>\n",
       "      <td>1995</td>\n",
       "    </tr>\n",
       "    <tr>\n",
       "      <th>2</th>\n",
       "      <td>3</td>\n",
       "      <td>Grumpier Old Men</td>\n",
       "      <td>Comedy|Romance</td>\n",
       "      <td>1995</td>\n",
       "    </tr>\n",
       "    <tr>\n",
       "      <th>3</th>\n",
       "      <td>4</td>\n",
       "      <td>Waiting to Exhale</td>\n",
       "      <td>Comedy|Drama</td>\n",
       "      <td>1995</td>\n",
       "    </tr>\n",
       "    <tr>\n",
       "      <th>4</th>\n",
       "      <td>5</td>\n",
       "      <td>Father of the Bride Part II</td>\n",
       "      <td>Comedy</td>\n",
       "      <td>1995</td>\n",
       "    </tr>\n",
       "    <tr>\n",
       "      <th>...</th>\n",
       "      <td>...</td>\n",
       "      <td>...</td>\n",
       "      <td>...</td>\n",
       "      <td>...</td>\n",
       "    </tr>\n",
       "    <tr>\n",
       "      <th>3878</th>\n",
       "      <td>3948</td>\n",
       "      <td>Meet the Parents</td>\n",
       "      <td>Comedy</td>\n",
       "      <td>2000</td>\n",
       "    </tr>\n",
       "    <tr>\n",
       "      <th>3879</th>\n",
       "      <td>3949</td>\n",
       "      <td>Requiem for a Dream</td>\n",
       "      <td>Drama</td>\n",
       "      <td>2000</td>\n",
       "    </tr>\n",
       "    <tr>\n",
       "      <th>3880</th>\n",
       "      <td>3950</td>\n",
       "      <td>Tigerland</td>\n",
       "      <td>Drama</td>\n",
       "      <td>2000</td>\n",
       "    </tr>\n",
       "    <tr>\n",
       "      <th>3881</th>\n",
       "      <td>3951</td>\n",
       "      <td>Two Family House</td>\n",
       "      <td>Drama</td>\n",
       "      <td>2000</td>\n",
       "    </tr>\n",
       "    <tr>\n",
       "      <th>3882</th>\n",
       "      <td>3952</td>\n",
       "      <td>Contender, The</td>\n",
       "      <td>Drama|Thriller</td>\n",
       "      <td>2000</td>\n",
       "    </tr>\n",
       "  </tbody>\n",
       "</table>\n",
       "<p>3883 rows × 4 columns</p>\n",
       "</div>"
      ],
      "text/plain": [
       "      movie_id                       titulo                        genero  \\\n",
       "0            1                    Toy Story   Animation|Children's|Comedy   \n",
       "1            2                      Jumanji  Adventure|Children's|Fantasy   \n",
       "2            3             Grumpier Old Men                Comedy|Romance   \n",
       "3            4            Waiting to Exhale                  Comedy|Drama   \n",
       "4            5  Father of the Bride Part II                        Comedy   \n",
       "...        ...                          ...                           ...   \n",
       "3878      3948             Meet the Parents                        Comedy   \n",
       "3879      3949          Requiem for a Dream                         Drama   \n",
       "3880      3950                    Tigerland                         Drama   \n",
       "3881      3951             Two Family House                         Drama   \n",
       "3882      3952               Contender, The                Drama|Thriller   \n",
       "\n",
       "      anho  \n",
       "0     1995  \n",
       "1     1995  \n",
       "2     1995  \n",
       "3     1995  \n",
       "4     1995  \n",
       "...    ...  \n",
       "3878  2000  \n",
       "3879  2000  \n",
       "3880  2000  \n",
       "3881  2000  \n",
       "3882  2000  \n",
       "\n",
       "[3883 rows x 4 columns]"
      ]
     },
     "execution_count": 11,
     "metadata": {},
     "output_type": "execute_result"
    }
   ],
   "source": [
    "movies"
   ]
  },
  {
   "cell_type": "code",
   "execution_count": 12,
   "id": "2a3fea3f",
   "metadata": {},
   "outputs": [
    {
     "data": {
      "text/plain": [
       "array(['1995', '1994', '1996', '1976', '1993', '1992', '1988', '1967',\n",
       "       '1964', '1977', '1965', '1982', '1962', '1990', '1991', '1989',\n",
       "       '1937', '1940', '1969', '1981', '1973', '1970', '1960', '1955',\n",
       "       '1956', '1959', '1968', '1980', '1975', '1986', '1948', '1943',\n",
       "       '1963', '1950', '1946', '1987', '1997', '1974', '1958', '1949',\n",
       "       '1972', '1998', '1933', '1952', '1951', '1957', '1961', '1954',\n",
       "       '1934', '1944', '1942', '1941', '1953', '1939', '1947', '1945',\n",
       "       '1938', '1935', '1936', '1926', '1932', '1930', '1971', '1979',\n",
       "       '1966', '1978', '1985', '1983', '1984', '1931', '1922', '1927',\n",
       "       '1929', '1928', '1925', '1923', '1999', '1919', '2000', '1920',\n",
       "       '1921'], dtype=object)"
      ]
     },
     "execution_count": 12,
     "metadata": {},
     "output_type": "execute_result"
    }
   ],
   "source": [
    "movies.anho.unique()"
   ]
  },
  {
   "cell_type": "code",
   "execution_count": 13,
   "id": "d84570b7",
   "metadata": {},
   "outputs": [
    {
     "name": "stdout",
     "output_type": "stream",
     "text": [
      "<class 'pandas.core.frame.DataFrame'>\n",
      "RangeIndex: 3883 entries, 0 to 3882\n",
      "Data columns (total 4 columns):\n",
      " #   Column    Non-Null Count  Dtype \n",
      "---  ------    --------------  ----- \n",
      " 0   movie_id  3883 non-null   int64 \n",
      " 1   titulo    3883 non-null   object\n",
      " 2   genero    3883 non-null   object\n",
      " 3   anho      3883 non-null   object\n",
      "dtypes: int64(1), object(3)\n",
      "memory usage: 121.5+ KB\n"
     ]
    }
   ],
   "source": [
    "movies.info()"
   ]
  },
  {
   "cell_type": "code",
   "execution_count": 14,
   "id": "5e431c16",
   "metadata": {},
   "outputs": [
    {
     "data": {
      "text/plain": [
       "(3883, 4)"
      ]
     },
     "execution_count": 14,
     "metadata": {},
     "output_type": "execute_result"
    }
   ],
   "source": [
    "movies.shape"
   ]
  },
  {
   "cell_type": "markdown",
   "id": "414434ea",
   "metadata": {},
   "source": [
    "Vemos que tenemos 3883 líneas.\n",
    "\n",
    "Los campos habiendo aplicado como separadores \"::\" y habiendo añadido el campo \"anho\" son: un identificador asignado por la base de datos, el título (que incluye el año, que de hecho hemos extraído a otro campo), y el género de película, que de hecho puede ser más de uno.\n",
    "\n",
    "Conviene hacer una operación más: separar en sus trozos los campos de la columna género que son varios géneros a la vez. Este tratamiento se hace justamente en el mismo proyecto de GitHub de donde se han obtenido los datos. Lo aprovechamos."
   ]
  },
  {
   "cell_type": "code",
   "execution_count": 15,
   "id": "fd28e398",
   "metadata": {},
   "outputs": [
    {
     "data": {
      "text/plain": [
       "<bound method NDFrame.describe of       movie_id                       titulo                        genero  \\\n",
       "0            1                    Toy Story   Animation|Children's|Comedy   \n",
       "1            2                      Jumanji  Adventure|Children's|Fantasy   \n",
       "2            3             Grumpier Old Men                Comedy|Romance   \n",
       "3            4            Waiting to Exhale                  Comedy|Drama   \n",
       "4            5  Father of the Bride Part II                        Comedy   \n",
       "...        ...                          ...                           ...   \n",
       "3878      3948             Meet the Parents                        Comedy   \n",
       "3879      3949          Requiem for a Dream                         Drama   \n",
       "3880      3950                    Tigerland                         Drama   \n",
       "3881      3951             Two Family House                         Drama   \n",
       "3882      3952               Contender, The                Drama|Thriller   \n",
       "\n",
       "      anho  \n",
       "0     1995  \n",
       "1     1995  \n",
       "2     1995  \n",
       "3     1995  \n",
       "4     1995  \n",
       "...    ...  \n",
       "3878  2000  \n",
       "3879  2000  \n",
       "3880  2000  \n",
       "3881  2000  \n",
       "3882  2000  \n",
       "\n",
       "[3883 rows x 4 columns]>"
      ]
     },
     "execution_count": 15,
     "metadata": {},
     "output_type": "execute_result"
    }
   ],
   "source": [
    "movies.describe"
   ]
  },
  {
   "cell_type": "code",
   "execution_count": 16,
   "id": "b72fa8c9",
   "metadata": {},
   "outputs": [
    {
     "data": {
      "text/html": [
       "<div>\n",
       "<style scoped>\n",
       "    .dataframe tbody tr th:only-of-type {\n",
       "        vertical-align: middle;\n",
       "    }\n",
       "\n",
       "    .dataframe tbody tr th {\n",
       "        vertical-align: top;\n",
       "    }\n",
       "\n",
       "    .dataframe thead th {\n",
       "        text-align: right;\n",
       "    }\n",
       "</style>\n",
       "<table border=\"1\" class=\"dataframe\">\n",
       "  <thead>\n",
       "    <tr style=\"text-align: right;\">\n",
       "      <th></th>\n",
       "      <th>movie_id</th>\n",
       "      <th>titulo</th>\n",
       "      <th>genero</th>\n",
       "      <th>anho</th>\n",
       "    </tr>\n",
       "  </thead>\n",
       "  <tbody>\n",
       "    <tr>\n",
       "      <th>3878</th>\n",
       "      <td>3948</td>\n",
       "      <td>Meet the Parents</td>\n",
       "      <td>Comedy</td>\n",
       "      <td>2000</td>\n",
       "    </tr>\n",
       "    <tr>\n",
       "      <th>3879</th>\n",
       "      <td>3949</td>\n",
       "      <td>Requiem for a Dream</td>\n",
       "      <td>Drama</td>\n",
       "      <td>2000</td>\n",
       "    </tr>\n",
       "    <tr>\n",
       "      <th>3880</th>\n",
       "      <td>3950</td>\n",
       "      <td>Tigerland</td>\n",
       "      <td>Drama</td>\n",
       "      <td>2000</td>\n",
       "    </tr>\n",
       "    <tr>\n",
       "      <th>3881</th>\n",
       "      <td>3951</td>\n",
       "      <td>Two Family House</td>\n",
       "      <td>Drama</td>\n",
       "      <td>2000</td>\n",
       "    </tr>\n",
       "    <tr>\n",
       "      <th>3882</th>\n",
       "      <td>3952</td>\n",
       "      <td>Contender, The</td>\n",
       "      <td>Drama|Thriller</td>\n",
       "      <td>2000</td>\n",
       "    </tr>\n",
       "  </tbody>\n",
       "</table>\n",
       "</div>"
      ],
      "text/plain": [
       "      movie_id               titulo          genero  anho\n",
       "3878      3948     Meet the Parents          Comedy  2000\n",
       "3879      3949  Requiem for a Dream           Drama  2000\n",
       "3880      3950            Tigerland           Drama  2000\n",
       "3881      3951     Two Family House           Drama  2000\n",
       "3882      3952       Contender, The  Drama|Thriller  2000"
      ]
     },
     "execution_count": 16,
     "metadata": {},
     "output_type": "execute_result"
    }
   ],
   "source": [
    "movies.tail()"
   ]
  },
  {
   "cell_type": "markdown",
   "id": "73ad3f50",
   "metadata": {},
   "source": [
    "Otra cosa que se nos pide es quedarnos solo con el primer género de cada registro. Lo hacemos como sigue:"
   ]
  },
  {
   "cell_type": "code",
   "execution_count": 17,
   "id": "733dbde8",
   "metadata": {},
   "outputs": [],
   "source": [
    "movies['genero'] = movies['genero'].str.split('|').str[0]"
   ]
  },
  {
   "cell_type": "code",
   "execution_count": 18,
   "id": "75f9a8e1",
   "metadata": {},
   "outputs": [
    {
     "data": {
      "text/html": [
       "<div>\n",
       "<style scoped>\n",
       "    .dataframe tbody tr th:only-of-type {\n",
       "        vertical-align: middle;\n",
       "    }\n",
       "\n",
       "    .dataframe tbody tr th {\n",
       "        vertical-align: top;\n",
       "    }\n",
       "\n",
       "    .dataframe thead th {\n",
       "        text-align: right;\n",
       "    }\n",
       "</style>\n",
       "<table border=\"1\" class=\"dataframe\">\n",
       "  <thead>\n",
       "    <tr style=\"text-align: right;\">\n",
       "      <th></th>\n",
       "      <th>movie_id</th>\n",
       "      <th>titulo</th>\n",
       "      <th>genero</th>\n",
       "      <th>anho</th>\n",
       "    </tr>\n",
       "  </thead>\n",
       "  <tbody>\n",
       "    <tr>\n",
       "      <th>0</th>\n",
       "      <td>1</td>\n",
       "      <td>Toy Story</td>\n",
       "      <td>Animation</td>\n",
       "      <td>1995</td>\n",
       "    </tr>\n",
       "    <tr>\n",
       "      <th>1</th>\n",
       "      <td>2</td>\n",
       "      <td>Jumanji</td>\n",
       "      <td>Adventure</td>\n",
       "      <td>1995</td>\n",
       "    </tr>\n",
       "    <tr>\n",
       "      <th>2</th>\n",
       "      <td>3</td>\n",
       "      <td>Grumpier Old Men</td>\n",
       "      <td>Comedy</td>\n",
       "      <td>1995</td>\n",
       "    </tr>\n",
       "    <tr>\n",
       "      <th>3</th>\n",
       "      <td>4</td>\n",
       "      <td>Waiting to Exhale</td>\n",
       "      <td>Comedy</td>\n",
       "      <td>1995</td>\n",
       "    </tr>\n",
       "    <tr>\n",
       "      <th>4</th>\n",
       "      <td>5</td>\n",
       "      <td>Father of the Bride Part II</td>\n",
       "      <td>Comedy</td>\n",
       "      <td>1995</td>\n",
       "    </tr>\n",
       "    <tr>\n",
       "      <th>...</th>\n",
       "      <td>...</td>\n",
       "      <td>...</td>\n",
       "      <td>...</td>\n",
       "      <td>...</td>\n",
       "    </tr>\n",
       "    <tr>\n",
       "      <th>3878</th>\n",
       "      <td>3948</td>\n",
       "      <td>Meet the Parents</td>\n",
       "      <td>Comedy</td>\n",
       "      <td>2000</td>\n",
       "    </tr>\n",
       "    <tr>\n",
       "      <th>3879</th>\n",
       "      <td>3949</td>\n",
       "      <td>Requiem for a Dream</td>\n",
       "      <td>Drama</td>\n",
       "      <td>2000</td>\n",
       "    </tr>\n",
       "    <tr>\n",
       "      <th>3880</th>\n",
       "      <td>3950</td>\n",
       "      <td>Tigerland</td>\n",
       "      <td>Drama</td>\n",
       "      <td>2000</td>\n",
       "    </tr>\n",
       "    <tr>\n",
       "      <th>3881</th>\n",
       "      <td>3951</td>\n",
       "      <td>Two Family House</td>\n",
       "      <td>Drama</td>\n",
       "      <td>2000</td>\n",
       "    </tr>\n",
       "    <tr>\n",
       "      <th>3882</th>\n",
       "      <td>3952</td>\n",
       "      <td>Contender, The</td>\n",
       "      <td>Drama</td>\n",
       "      <td>2000</td>\n",
       "    </tr>\n",
       "  </tbody>\n",
       "</table>\n",
       "<p>3883 rows × 4 columns</p>\n",
       "</div>"
      ],
      "text/plain": [
       "      movie_id                       titulo     genero  anho\n",
       "0            1                    Toy Story  Animation  1995\n",
       "1            2                      Jumanji  Adventure  1995\n",
       "2            3             Grumpier Old Men     Comedy  1995\n",
       "3            4            Waiting to Exhale     Comedy  1995\n",
       "4            5  Father of the Bride Part II     Comedy  1995\n",
       "...        ...                          ...        ...   ...\n",
       "3878      3948             Meet the Parents     Comedy  2000\n",
       "3879      3949          Requiem for a Dream      Drama  2000\n",
       "3880      3950                    Tigerland      Drama  2000\n",
       "3881      3951             Two Family House      Drama  2000\n",
       "3882      3952               Contender, The      Drama  2000\n",
       "\n",
       "[3883 rows x 4 columns]"
      ]
     },
     "execution_count": 18,
     "metadata": {},
     "output_type": "execute_result"
    }
   ],
   "source": [
    "movies"
   ]
  },
  {
   "cell_type": "markdown",
   "id": "ca7b2505",
   "metadata": {},
   "source": [
    "Con esto, damos por concluida la limpieza/preprocesado de los datos."
   ]
  },
  {
   "cell_type": "markdown",
   "id": "eb045335",
   "metadata": {},
   "source": [
    "# Ejercicio 3 "
   ]
  },
  {
   "cell_type": "markdown",
   "id": "fcbd938a",
   "metadata": {},
   "source": [
    "Representar algunas cosas relevantes del dataset. A priori, veremos cuán fácil o difícil me resulta, me llama la atención representar lo siguiente:\n",
    "    \n",
    "* Evolución del número de películas, por año. Un diagrama de líneas sería a priori adecuado.\n",
    "* Géneros más frecuentes. Un barplot serviría.\n",
    "* Evolución de los géneros más frecuentes.\n",
    "* Palabra \"larga\" (cuatro caracteres o más) más frecuente en los títulos. Un \"pie chart\" de las palabras \"top\" podría ser ok."
   ]
  },
  {
   "cell_type": "markdown",
   "id": "e690fe09",
   "metadata": {},
   "source": [
    "Empecemos por el número de películas por año. Lo apropiado a priori me parece un diagrama de líneas, que transmite bien en general las evoluciones temporales."
   ]
  },
  {
   "cell_type": "code",
   "execution_count": 19,
   "id": "9f84600f",
   "metadata": {},
   "outputs": [
    {
     "data": {
      "text/html": [
       "<div>\n",
       "<style scoped>\n",
       "    .dataframe tbody tr th:only-of-type {\n",
       "        vertical-align: middle;\n",
       "    }\n",
       "\n",
       "    .dataframe tbody tr th {\n",
       "        vertical-align: top;\n",
       "    }\n",
       "\n",
       "    .dataframe thead th {\n",
       "        text-align: right;\n",
       "    }\n",
       "</style>\n",
       "<table border=\"1\" class=\"dataframe\">\n",
       "  <thead>\n",
       "    <tr style=\"text-align: right;\">\n",
       "      <th></th>\n",
       "      <th>movie_id</th>\n",
       "      <th>titulo</th>\n",
       "      <th>genero</th>\n",
       "      <th>anho</th>\n",
       "    </tr>\n",
       "  </thead>\n",
       "  <tbody>\n",
       "    <tr>\n",
       "      <th>0</th>\n",
       "      <td>1</td>\n",
       "      <td>Toy Story</td>\n",
       "      <td>Animation</td>\n",
       "      <td>1995</td>\n",
       "    </tr>\n",
       "    <tr>\n",
       "      <th>1</th>\n",
       "      <td>2</td>\n",
       "      <td>Jumanji</td>\n",
       "      <td>Adventure</td>\n",
       "      <td>1995</td>\n",
       "    </tr>\n",
       "    <tr>\n",
       "      <th>2</th>\n",
       "      <td>3</td>\n",
       "      <td>Grumpier Old Men</td>\n",
       "      <td>Comedy</td>\n",
       "      <td>1995</td>\n",
       "    </tr>\n",
       "    <tr>\n",
       "      <th>3</th>\n",
       "      <td>4</td>\n",
       "      <td>Waiting to Exhale</td>\n",
       "      <td>Comedy</td>\n",
       "      <td>1995</td>\n",
       "    </tr>\n",
       "    <tr>\n",
       "      <th>4</th>\n",
       "      <td>5</td>\n",
       "      <td>Father of the Bride Part II</td>\n",
       "      <td>Comedy</td>\n",
       "      <td>1995</td>\n",
       "    </tr>\n",
       "    <tr>\n",
       "      <th>5</th>\n",
       "      <td>6</td>\n",
       "      <td>Heat</td>\n",
       "      <td>Action</td>\n",
       "      <td>1995</td>\n",
       "    </tr>\n",
       "    <tr>\n",
       "      <th>6</th>\n",
       "      <td>7</td>\n",
       "      <td>Sabrina</td>\n",
       "      <td>Comedy</td>\n",
       "      <td>1995</td>\n",
       "    </tr>\n",
       "    <tr>\n",
       "      <th>7</th>\n",
       "      <td>8</td>\n",
       "      <td>Tom and Huck</td>\n",
       "      <td>Adventure</td>\n",
       "      <td>1995</td>\n",
       "    </tr>\n",
       "    <tr>\n",
       "      <th>8</th>\n",
       "      <td>9</td>\n",
       "      <td>Sudden Death</td>\n",
       "      <td>Action</td>\n",
       "      <td>1995</td>\n",
       "    </tr>\n",
       "    <tr>\n",
       "      <th>9</th>\n",
       "      <td>10</td>\n",
       "      <td>GoldenEye</td>\n",
       "      <td>Action</td>\n",
       "      <td>1995</td>\n",
       "    </tr>\n",
       "  </tbody>\n",
       "</table>\n",
       "</div>"
      ],
      "text/plain": [
       "   movie_id                       titulo     genero  anho\n",
       "0         1                    Toy Story  Animation  1995\n",
       "1         2                      Jumanji  Adventure  1995\n",
       "2         3             Grumpier Old Men     Comedy  1995\n",
       "3         4            Waiting to Exhale     Comedy  1995\n",
       "4         5  Father of the Bride Part II     Comedy  1995\n",
       "5         6                         Heat     Action  1995\n",
       "6         7                      Sabrina     Comedy  1995\n",
       "7         8                 Tom and Huck  Adventure  1995\n",
       "8         9                 Sudden Death     Action  1995\n",
       "9        10                    GoldenEye     Action  1995"
      ]
     },
     "execution_count": 19,
     "metadata": {},
     "output_type": "execute_result"
    }
   ],
   "source": [
    "movies.head(10)"
   ]
  },
  {
   "cell_type": "code",
   "execution_count": 20,
   "id": "828fa4fe",
   "metadata": {},
   "outputs": [
    {
     "data": {
      "text/plain": [
       "anho\n",
       "1919      3\n",
       "1920      2\n",
       "1921      1\n",
       "1922      2\n",
       "1923      3\n",
       "       ... \n",
       "1996    345\n",
       "1997    315\n",
       "1998    337\n",
       "1999    283\n",
       "2000    156\n",
       "Name: titulo, Length: 81, dtype: int64"
      ]
     },
     "execution_count": 20,
     "metadata": {},
     "output_type": "execute_result"
    }
   ],
   "source": [
    "movies['titulo'].groupby(movies.anho).agg('count')\n",
    "\n",
    "#movies.count()"
   ]
  },
  {
   "cell_type": "code",
   "execution_count": 21,
   "id": "91f53299",
   "metadata": {},
   "outputs": [
    {
     "data": {
      "text/plain": [
       "pandas.core.series.Series"
      ]
     },
     "execution_count": 21,
     "metadata": {},
     "output_type": "execute_result"
    }
   ],
   "source": [
    "type(movies['titulo'].groupby(movies.anho).agg('count'))"
   ]
  },
  {
   "cell_type": "code",
   "execution_count": 22,
   "id": "062f3c63",
   "metadata": {},
   "outputs": [],
   "source": [
    "pelis_anhos = movies['titulo'].groupby(movies.anho).agg('count')"
   ]
  },
  {
   "cell_type": "code",
   "execution_count": 23,
   "id": "27e9a5c9",
   "metadata": {},
   "outputs": [
    {
     "data": {
      "text/plain": [
       "anho\n",
       "1919      3\n",
       "1920      2\n",
       "1921      1\n",
       "1922      2\n",
       "1923      3\n",
       "       ... \n",
       "1996    345\n",
       "1997    315\n",
       "1998    337\n",
       "1999    283\n",
       "2000    156\n",
       "Name: titulo, Length: 81, dtype: int64"
      ]
     },
     "execution_count": 23,
     "metadata": {},
     "output_type": "execute_result"
    }
   ],
   "source": [
    "pelis_anhos"
   ]
  },
  {
   "cell_type": "code",
   "execution_count": 24,
   "id": "8f7eac4d",
   "metadata": {},
   "outputs": [
    {
     "data": {
      "text/plain": [
       "['1919',\n",
       " '1920',\n",
       " '1921',\n",
       " '1922',\n",
       " '1923',\n",
       " '1925',\n",
       " '1926',\n",
       " '1927',\n",
       " '1928',\n",
       " '1929',\n",
       " '1930',\n",
       " '1931',\n",
       " '1932',\n",
       " '1933',\n",
       " '1934',\n",
       " '1935',\n",
       " '1936',\n",
       " '1937',\n",
       " '1938',\n",
       " '1939',\n",
       " '1940',\n",
       " '1941',\n",
       " '1942',\n",
       " '1943',\n",
       " '1944',\n",
       " '1945',\n",
       " '1946',\n",
       " '1947',\n",
       " '1948',\n",
       " '1949',\n",
       " '1950',\n",
       " '1951',\n",
       " '1952',\n",
       " '1953',\n",
       " '1954',\n",
       " '1955',\n",
       " '1956',\n",
       " '1957',\n",
       " '1958',\n",
       " '1959',\n",
       " '1960',\n",
       " '1961',\n",
       " '1962',\n",
       " '1963',\n",
       " '1964',\n",
       " '1965',\n",
       " '1966',\n",
       " '1967',\n",
       " '1968',\n",
       " '1969',\n",
       " '1970',\n",
       " '1971',\n",
       " '1972',\n",
       " '1973',\n",
       " '1974',\n",
       " '1975',\n",
       " '1976',\n",
       " '1977',\n",
       " '1978',\n",
       " '1979',\n",
       " '1980',\n",
       " '1981',\n",
       " '1982',\n",
       " '1983',\n",
       " '1984',\n",
       " '1985',\n",
       " '1986',\n",
       " '1987',\n",
       " '1988',\n",
       " '1989',\n",
       " '1990',\n",
       " '1991',\n",
       " '1992',\n",
       " '1993',\n",
       " '1994',\n",
       " '1995',\n",
       " '1996',\n",
       " '1997',\n",
       " '1998',\n",
       " '1999',\n",
       " '2000']"
      ]
     },
     "execution_count": 24,
     "metadata": {},
     "output_type": "execute_result"
    }
   ],
   "source": [
    "sorted(list(movies.anho.unique()))"
   ]
  },
  {
   "cell_type": "code",
   "execution_count": 25,
   "id": "65677b0e",
   "metadata": {},
   "outputs": [
    {
     "data": {
      "image/png": "[encoded data removed]",
      "text/plain": [
       "<Figure size 640x480 with 1 Axes>"
      ]
     },
     "metadata": {},
     "output_type": "display_data"
    }
   ],
   "source": [
    "#Obtenemos dos listas ordenadas en función del año. Primero creamos dos listas vacías:\n",
    "anhos = []  # Años\n",
    "num_pelis = []  # Número de películas\n",
    "# Luego las rellenamos, por orden ascendente de año:\n",
    "for year in sorted(movies.anho.unique()):  # Me he vuelto loco usando \"sort\" en lugar de \"sorted\" (nota para mí mismo).\n",
    "    anhos.append(year)\n",
    "    num_pelis.append(pelis_anhos[year])  # Accedemos con el año al número de películas que habíamos almacenado antes.\n",
    "\n",
    "# Representamos\n",
    "fig, ax = plt.subplots()\n",
    "ax.plot(anhos, num_pelis)\n",
    "\n",
    "ax.set(xlabel='Año', ylabel='Número de películas',\n",
    "       title='Número de películas vs. Año')\n",
    "\n",
    "# Mostrar solo un \"label\" por cada cinco \"ticks\" (si no, se solapan y no se lee)\n",
    "ticks = []\n",
    "espacio_ticks = 5\n",
    "for i, year in enumerate(anhos):\n",
    "    if i % espacio_ticks == 0:  # Cuando el modulo de dividir entre cinco (el espacio deseado).\n",
    "        ticks.append(year)\n",
    "ax.set_xticks(ticks)  # Sin especificar esto, los ticks no aparecían...\n",
    "# Lo anterior es una \"nota para mí mismo\", a partir de ahora, y en adelante \"NPM\", acrónimo de \"No Puedo Más\".\n",
    "\n",
    "ax.grid()\n",
    "\n",
    "# Rotación de \"ticks\"\n",
    "plt.xticks(rotation=45)\n",
    "\n",
    "#fig.savefig(\"test.png\")\n",
    "plt.show()"
   ]
  },
  {
   "cell_type": "markdown",
   "id": "1708b5a2",
   "metadata": {},
   "source": [
    "De la representación, podemos ver que hay un paulatino incremento en el número de películas desde los años veinte hasta los setenta. Luego, a mediados de los setenta hay un incremento relativamente importante, haciendo de los ochenta una época notablemente más prolífica que todas las anteriores.\n",
    "\n",
    "La tendencia continuó, con un bache entre 1985 y 1990, seguido de un \"boom\" descomunal en el número de películas, al menos en cuanto a las películas que aparecen en la base de datos. Es una pequeña muestra, \"of course\". Pero puede reflejar tendencias de \"el todo\"."
   ]
  },
  {
   "cell_type": "markdown",
   "id": "6fdefb78",
   "metadata": {},
   "source": [
    "Veamos ahora cuáles son los géneros más frecuentes. Para eso hemos de hacer un \"count\" de la columna movies.genero, y a partir de ahí, representar -por ejemplo- un barplot."
   ]
  },
  {
   "cell_type": "code",
   "execution_count": 26,
   "id": "623f6318",
   "metadata": {},
   "outputs": [
    {
     "data": {
      "text/plain": [
       "genero\n",
       "Action          503\n",
       "Adventure       155\n",
       "Animation        90\n",
       "Children's       89\n",
       "Comedy         1024\n",
       "Crime           131\n",
       "Documentary     123\n",
       "Drama          1176\n",
       "Fantasy           2\n",
       "Film-Noir        25\n",
       "Horror          262\n",
       "Musical          25\n",
       "Mystery          36\n",
       "Romance          50\n",
       "Sci-Fi           46\n",
       "Thriller        101\n",
       "War              12\n",
       "Western          33\n",
       "Name: genero, dtype: int64"
      ]
     },
     "execution_count": 26,
     "metadata": {},
     "output_type": "execute_result"
    }
   ],
   "source": [
    "movies.genero.groupby(movies.genero).count()"
   ]
  },
  {
   "cell_type": "code",
   "execution_count": 27,
   "id": "2cd9589c",
   "metadata": {},
   "outputs": [
    {
     "data": {
      "text/plain": [
       "pandas.core.series.Series"
      ]
     },
     "execution_count": 27,
     "metadata": {},
     "output_type": "execute_result"
    }
   ],
   "source": [
    "type(movies.genero.groupby(movies.genero).count())"
   ]
  },
  {
   "cell_type": "code",
   "execution_count": 28,
   "id": "51807b90",
   "metadata": {},
   "outputs": [
    {
     "data": {
      "text/plain": [
       "503"
      ]
     },
     "execution_count": 28,
     "metadata": {},
     "output_type": "execute_result"
    }
   ],
   "source": [
    "movies.genero.groupby(movies.genero).count()['Action']"
   ]
  },
  {
   "cell_type": "code",
   "execution_count": 29,
   "id": "8533af54",
   "metadata": {},
   "outputs": [
    {
     "data": {
      "text/plain": [
       "Index(['Action', 'Adventure', 'Animation', 'Children's', 'Comedy', 'Crime',\n",
       "       'Documentary', 'Drama', 'Fantasy', 'Film-Noir', 'Horror', 'Musical',\n",
       "       'Mystery', 'Romance', 'Sci-Fi', 'Thriller', 'War', 'Western'],\n",
       "      dtype='object', name='genero')"
      ]
     },
     "execution_count": 29,
     "metadata": {},
     "output_type": "execute_result"
    }
   ],
   "source": [
    "movies.genero.groupby(movies.genero).count().keys()"
   ]
  },
  {
   "cell_type": "markdown",
   "id": "bb6dac79",
   "metadata": {},
   "source": [
    "Representemos los géneros visualmente, mediante un diagrama de barras."
   ]
  },
  {
   "cell_type": "code",
   "execution_count": 30,
   "id": "5c739fac",
   "metadata": {
    "scrolled": false
   },
   "outputs": [
    {
     "data": {
      "image/png": "[encoded data removed]",
      "text/plain": [
       "<Figure size 640x480 with 1 Axes>"
      ]
     },
     "metadata": {},
     "output_type": "display_data"
    }
   ],
   "source": [
    "\n",
    "nombre_genero = movies.genero.groupby(movies.genero).count().keys()  # El \"count\" para acceder a sus elementos se comporta como un diccionario.\n",
    "numeros_genero = movies.genero.groupby(movies.genero).count()  # El \"count\" para acceder a sus elementos se comporta como un diccionario.\n",
    "\n",
    "fig, ax = plt.subplots()\n",
    "ax.bar(nombre_genero, numeros_genero)\n",
    "\n",
    "ax.set_xlabel('Género fílmico')\n",
    "ax.set_ylabel('Cantidad pelis')\n",
    "ax.set_title('Número de películas por género')\n",
    "# ax.legend(title='Número de películas por género')   # Esto es por si se pone leyenda.\n",
    "\n",
    "plt.xticks(rotation=70)\n",
    "\n",
    "plt.show()"
   ]
  },
  {
   "cell_type": "markdown",
   "id": "9a3d8421",
   "metadata": {},
   "source": [
    "De observar el gráfico, podemos ver que en la base de datos en cuestión, con gran diferencia dominan los géneros de acción, comedia y drama, seguidos de las películas de miedo (Horror), y ya algo más lejos, las películas de aventura (\"Adventure\").\n",
    "\n",
    "De esto podemos pensar en una nueva representación. ¿Cómo han evolucionado los 3 géneros más importantes a lo largo del tiempo?"
   ]
  },
  {
   "cell_type": "code",
   "execution_count": 31,
   "id": "5aa43fd9",
   "metadata": {},
   "outputs": [
    {
     "name": "stdout",
     "output_type": "stream",
     "text": [
      "Index(['Drama', 'Comedy', 'Action', 'Horror'], dtype='object', name='genero')\n"
     ]
    }
   ],
   "source": [
    "# Con lo siguiente, agrupamos por género.\n",
    "# Además contamos cuántas pelis hoy por género, ordenamos de mayor a menor, y nos quedamos con las cuatro más abundantes.\n",
    "top4_generos = (movies.genero.groupby(movies.genero).count()).sort_values(ascending = False).keys()[0:4]\n",
    "print((movies.genero.groupby(movies.genero).count()).sort_values(ascending = False).keys()[0:4])"
   ]
  },
  {
   "cell_type": "code",
   "execution_count": 34,
   "id": "dadec987",
   "metadata": {},
   "outputs": [
    {
     "data": {
      "text/html": [
       "<div>\n",
       "<style scoped>\n",
       "    .dataframe tbody tr th:only-of-type {\n",
       "        vertical-align: middle;\n",
       "    }\n",
       "\n",
       "    .dataframe tbody tr th {\n",
       "        vertical-align: top;\n",
       "    }\n",
       "\n",
       "    .dataframe thead th {\n",
       "        text-align: right;\n",
       "    }\n",
       "</style>\n",
       "<table border=\"1\" class=\"dataframe\">\n",
       "  <thead>\n",
       "    <tr style=\"text-align: right;\">\n",
       "      <th></th>\n",
       "      <th>movie_id</th>\n",
       "      <th>titulo</th>\n",
       "      <th>genero</th>\n",
       "      <th>anho</th>\n",
       "    </tr>\n",
       "  </thead>\n",
       "  <tbody>\n",
       "    <tr>\n",
       "      <th>0</th>\n",
       "      <td>1</td>\n",
       "      <td>Toy Story</td>\n",
       "      <td>Animation</td>\n",
       "      <td>1995</td>\n",
       "    </tr>\n",
       "    <tr>\n",
       "      <th>1</th>\n",
       "      <td>2</td>\n",
       "      <td>Jumanji</td>\n",
       "      <td>Adventure</td>\n",
       "      <td>1995</td>\n",
       "    </tr>\n",
       "    <tr>\n",
       "      <th>2</th>\n",
       "      <td>3</td>\n",
       "      <td>Grumpier Old Men</td>\n",
       "      <td>Comedy</td>\n",
       "      <td>1995</td>\n",
       "    </tr>\n",
       "    <tr>\n",
       "      <th>3</th>\n",
       "      <td>4</td>\n",
       "      <td>Waiting to Exhale</td>\n",
       "      <td>Comedy</td>\n",
       "      <td>1995</td>\n",
       "    </tr>\n",
       "    <tr>\n",
       "      <th>4</th>\n",
       "      <td>5</td>\n",
       "      <td>Father of the Bride Part II</td>\n",
       "      <td>Comedy</td>\n",
       "      <td>1995</td>\n",
       "    </tr>\n",
       "    <tr>\n",
       "      <th>...</th>\n",
       "      <td>...</td>\n",
       "      <td>...</td>\n",
       "      <td>...</td>\n",
       "      <td>...</td>\n",
       "    </tr>\n",
       "    <tr>\n",
       "      <th>3878</th>\n",
       "      <td>3948</td>\n",
       "      <td>Meet the Parents</td>\n",
       "      <td>Comedy</td>\n",
       "      <td>2000</td>\n",
       "    </tr>\n",
       "    <tr>\n",
       "      <th>3879</th>\n",
       "      <td>3949</td>\n",
       "      <td>Requiem for a Dream</td>\n",
       "      <td>Drama</td>\n",
       "      <td>2000</td>\n",
       "    </tr>\n",
       "    <tr>\n",
       "      <th>3880</th>\n",
       "      <td>3950</td>\n",
       "      <td>Tigerland</td>\n",
       "      <td>Drama</td>\n",
       "      <td>2000</td>\n",
       "    </tr>\n",
       "    <tr>\n",
       "      <th>3881</th>\n",
       "      <td>3951</td>\n",
       "      <td>Two Family House</td>\n",
       "      <td>Drama</td>\n",
       "      <td>2000</td>\n",
       "    </tr>\n",
       "    <tr>\n",
       "      <th>3882</th>\n",
       "      <td>3952</td>\n",
       "      <td>Contender, The</td>\n",
       "      <td>Drama</td>\n",
       "      <td>2000</td>\n",
       "    </tr>\n",
       "  </tbody>\n",
       "</table>\n",
       "<p>3883 rows × 4 columns</p>\n",
       "</div>"
      ],
      "text/plain": [
       "      movie_id                       titulo     genero  anho\n",
       "0            1                    Toy Story  Animation  1995\n",
       "1            2                      Jumanji  Adventure  1995\n",
       "2            3             Grumpier Old Men     Comedy  1995\n",
       "3            4            Waiting to Exhale     Comedy  1995\n",
       "4            5  Father of the Bride Part II     Comedy  1995\n",
       "...        ...                          ...        ...   ...\n",
       "3878      3948             Meet the Parents     Comedy  2000\n",
       "3879      3949          Requiem for a Dream      Drama  2000\n",
       "3880      3950                    Tigerland      Drama  2000\n",
       "3881      3951             Two Family House      Drama  2000\n",
       "3882      3952               Contender, The      Drama  2000\n",
       "\n",
       "[3883 rows x 4 columns]"
      ]
     },
     "execution_count": 34,
     "metadata": {},
     "output_type": "execute_result"
    }
   ],
   "source": [
    "movies"
   ]
  },
  {
   "cell_type": "markdown",
   "id": "2fdee3f1",
   "metadata": {},
   "source": [
    "¿Cómo obtenemos el número de películas de un género concreto, p.ej. 'Drama', en cada año concreto?"
   ]
  },
  {
   "cell_type": "code",
   "execution_count": 35,
   "id": "7023179d",
   "metadata": {},
   "outputs": [
    {
     "data": {
      "text/plain": [
       "anho\n",
       "1922      1\n",
       "1923      1\n",
       "1925      3\n",
       "1926      3\n",
       "1927      4\n",
       "       ... \n",
       "1996    118\n",
       "1997    100\n",
       "1998    116\n",
       "1999    103\n",
       "2000     36\n",
       "Name: genero, Length: 76, dtype: int64"
      ]
     },
     "execution_count": 35,
     "metadata": {},
     "output_type": "execute_result"
    }
   ],
   "source": [
    "(movies.genero.groupby([movies.genero, movies.anho]).count()).sort_index(ascending = True)['Drama']"
   ]
  },
  {
   "cell_type": "code",
   "execution_count": 36,
   "id": "c451607e",
   "metadata": {
    "scrolled": true
   },
   "outputs": [],
   "source": [
    "drama = (movies.genero.groupby([movies.genero, movies.anho]).count()).sort_index(ascending = True)['Drama']  # Ordenamos por índice."
   ]
  },
  {
   "cell_type": "code",
   "execution_count": 37,
   "id": "c154aa89",
   "metadata": {
    "scrolled": true
   },
   "outputs": [
    {
     "data": {
      "text/plain": [
       "anho\n",
       "1922    1\n",
       "1923    1\n",
       "1925    3\n",
       "1926    3\n",
       "1927    4\n",
       "Name: genero, dtype: int64"
      ]
     },
     "execution_count": 37,
     "metadata": {},
     "output_type": "execute_result"
    }
   ],
   "source": [
    "drama.head()"
   ]
  },
  {
   "cell_type": "markdown",
   "id": "d0f227c2",
   "metadata": {},
   "source": [
    "Pues bien, hacemos lo mismo para los otros tres géneros del \"top 4\": \"Drama\", \"Comedy\", \"Action\" y \"Horror\":"
   ]
  },
  {
   "cell_type": "code",
   "execution_count": 39,
   "id": "ed513c66",
   "metadata": {},
   "outputs": [],
   "source": [
    "comedia = (movies.genero.groupby([movies.genero, movies.anho]).count()).sort_index(ascending = True)['Comedy']\n",
    "accion = (movies.genero.groupby([movies.genero, movies.anho]).count()).sort_index(ascending = True)['Action']\n",
    "horror = (movies.genero.groupby([movies.genero, movies.anho]).count()).sort_index(ascending = True)['Horror']"
   ]
  },
  {
   "cell_type": "code",
   "execution_count": null,
   "id": "77cef7eb",
   "metadata": {},
   "outputs": [],
   "source": [
    "# BORRAR????\n",
    "comedia = movies[movies.sort_values(by='anho').genero == 'Comedy'].groupby('anho').count()['genero']\n",
    "accion = movies[movies.sort_values(by='anho').genero == 'Action'].groupby('anho').count()['genero']\n",
    "horror = movies[movies.sort_values(by='anho').genero == 'Horror'].groupby('anho').count()['genero']"
   ]
  },
  {
   "cell_type": "markdown",
   "id": "5387117b",
   "metadata": {},
   "source": [
    "Pero ojo, queda otra cuestión que atender. No cada género tiene películas en todos los años. Si no incluimos los años que faltan, así como un valor cero para esos años, la representación \"hará cosas raras\". Para prevenirlo, hemos de completar la serie que genera el código anterior con los años que faltan, asociados al valor cero (o a un NaN)."
   ]
  },
  {
   "cell_type": "code",
   "execution_count": 40,
   "id": "f7d5c5f7",
   "metadata": {},
   "outputs": [],
   "source": [
    "# Step 1: Create a complete range of years\n",
    "full_year_range = range(1915, 2000 + 1)\n",
    "\n",
    "# Si no se convierten los índices a enteros, luego pasan cosas raras y anula todos los valores a cero.\n",
    "drama.index = drama.index.astype(int)\n",
    "comedia.index = comedia.index.astype(int)\n",
    "accion.index = accion.index.astype(int)\n",
    "horror.index = horror.index.astype(int)\n",
    "\n",
    "# \"Reindizar\" la serie, añadiendo todos los valores de año que faltan, y poniendo ceros en los años añadidos.\n",
    "drama = drama.reindex(full_year_range).fillna(0)\n",
    "comedia = comedia.reindex(full_year_range).fillna(0)\n",
    "accion = accion.reindex(full_year_range).fillna(0)\n",
    "horror = horror.reindex(full_year_range).fillna(0)"
   ]
  },
  {
   "cell_type": "code",
   "execution_count": 43,
   "id": "2aef960d",
   "metadata": {},
   "outputs": [
    {
     "data": {
      "image/png": "[encoded data removed]",
      "text/plain": [
       "<Figure size 1200x800 with 1 Axes>"
      ]
     },
     "metadata": {},
     "output_type": "display_data"
    }
   ],
   "source": [
    "# Creación del \"lienzo\".\n",
    "fig, ax = plt.subplots(figsize=(12, 8))  # Aquí podemos modificar el tamaño, en pulgadas\n",
    "\n",
    "# Representar cada serie de pandas. Si faltan años, hará cosas raras, por eso hemos rellenado antes los años que faltaban.\n",
    "ax.plot(drama.index, drama.values, label='Drama')\n",
    "ax.plot(comedia.index, comedia.values, label='Comedy')\n",
    "ax.plot(accion.index, accion.values, label='Action')\n",
    "ax.plot(horror.index, horror.values, label='Horror')\n",
    "\n",
    "# Setting the labels and title\n",
    "ax.set(xlabel='Año', ylabel='Número de películas', title='Número de películas del género vs. Año')\n",
    "\n",
    "# Espaciado de los \"ticks\" a uno cada cinco años\n",
    "tick_spacing = 5\n",
    "ticks = [year for i, year in enumerate(drama.index) if i % tick_spacing == 0]  # Nos basamos en la operación \"modulo\" y eñ rango de años.\n",
    "ax.set_xticks(ticks)\n",
    "\n",
    "# Orientación de los \"ticks\"\n",
    "plt.xticks(rotation=30)\n",
    "\n",
    "# Que aparezca la leyenda\n",
    "ax.legend()\n",
    "\n",
    "# Mostrar el \"grid\"\n",
    "ax.grid()\n",
    "\n",
    "# Show the plot\n",
    "plt.show()"
   ]
  },
  {
   "cell_type": "markdown",
   "id": "dd899369",
   "metadata": {},
   "source": [
    "En este gráfico podemos ver que los cuatro géneros más populares, aunque ha ido habiendo \"pequeñas victorias\" puntuales de alguno de ellos, la mayor parte del tiempo parecen seguir a lo largo del tiempo la tendencia de que domina el Drama, luego la comedia, luego la acción y luego las películas de miedo, lo cual tiene bastante sentido si consideramos el orden del \"top 4\".\n",
    "\n",
    "Con excepción de algunos momentos en la primera mitad del siglo XX, la desviación más relevante de este orden de cosas se vio (según nuestra base de datos) en la segunda mitad de los ochenta y primeros noventa, en que la comedia le arrebató por unos cuantos años el \"trono\" al drama. Ni las películas de miedo ni las de acción lograron disputar esa preponderancia al Drama ni a la Comedia, solo muy puntualmente las películas de miedo o de acción fueron las más frecuentes en un año."
   ]
  }
 ],
 "metadata": {
  "kernelspec": {
   "display_name": "Python 3 (ipykernel)",
   "language": "python",
   "name": "python3"
  },
  "language_info": {
   "codemirror_mode": {
    "name": "ipython",
    "version": 3
   },
   "file_extension": ".py",
   "mimetype": "text/x-python",
   "name": "python",
   "nbconvert_exporter": "python",
   "pygments_lexer": "ipython3",
   "version": "3.8.13"
  }
 },
 "nbformat": 4,
 "nbformat_minor": 5
}
