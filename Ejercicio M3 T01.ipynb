{
 "cells": [
  {
   "cell_type": "markdown",
   "id": "60fba7af",
   "metadata": {},
   "source": [
    "Trabajar mediante la librería NumPy sobre los datos de la librería sklearn.datasets descargando el conjunto de datos con nombre \"Iris\". Este conjunto de datos contiene arrays y listas."
   ]
  },
  {
   "cell_type": "markdown",
   "id": "ba8a43eb",
   "metadata": {},
   "source": [
    "## Ejercicio 1:"
   ]
  },
  {
   "cell_type": "markdown",
   "id": "33c2f122",
   "metadata": {},
   "source": [
    "Cargar \"data\" y \"target\" del conjunto de datos, visualizando los 10 primeros registros de cada uno. Nota: el enunciado original decía \"feature\", en lugar de \"target\"."
   ]
  },
  {
   "cell_type": "code",
   "execution_count": 1,
   "id": "7ab27be3",
   "metadata": {},
   "outputs": [],
   "source": [
    "from sklearn import datasets   # Importing sklearn \"completely\" does not work (to save memory, etc.).\n",
    "import numpy as np"
   ]
  },
  {
   "cell_type": "code",
   "execution_count": 2,
   "id": "e1d550cb",
   "metadata": {},
   "outputs": [],
   "source": [
    "iris = datasets.load_iris()"
   ]
  },
  {
   "cell_type": "code",
   "execution_count": 3,
   "id": "ac2a4950",
   "metadata": {},
   "outputs": [
    {
     "data": {
      "text/plain": [
       "sklearn.utils._bunch.Bunch"
      ]
     },
     "execution_count": 3,
     "metadata": {},
     "output_type": "execute_result"
    }
   ],
   "source": [
    "type(iris)   # Este objeto de tipo \"bunch\" viene del paquete scikit-learn (i.e. sklearn).\n",
    "# Según artículos leídos online, a la práctica se comporta parecido a un diccionario."
   ]
  },
  {
   "cell_type": "code",
   "execution_count": 4,
   "id": "40c159fd",
   "metadata": {},
   "outputs": [
    {
     "data": {
      "text/plain": [
       "{'data': array([[5.1, 3.5, 1.4, 0.2],\n",
       "        [4.9, 3. , 1.4, 0.2],\n",
       "        [4.7, 3.2, 1.3, 0.2],\n",
       "        [4.6, 3.1, 1.5, 0.2],\n",
       "        [5. , 3.6, 1.4, 0.2],\n",
       "        [5.4, 3.9, 1.7, 0.4],\n",
       "        [4.6, 3.4, 1.4, 0.3],\n",
       "        [5. , 3.4, 1.5, 0.2],\n",
       "        [4.4, 2.9, 1.4, 0.2],\n",
       "        [4.9, 3.1, 1.5, 0.1],\n",
       "        [5.4, 3.7, 1.5, 0.2],\n",
       "        [4.8, 3.4, 1.6, 0.2],\n",
       "        [4.8, 3. , 1.4, 0.1],\n",
       "        [4.3, 3. , 1.1, 0.1],\n",
       "        [5.8, 4. , 1.2, 0.2],\n",
       "        [5.7, 4.4, 1.5, 0.4],\n",
       "        [5.4, 3.9, 1.3, 0.4],\n",
       "        [5.1, 3.5, 1.4, 0.3],\n",
       "        [5.7, 3.8, 1.7, 0.3],\n",
       "        [5.1, 3.8, 1.5, 0.3],\n",
       "        [5.4, 3.4, 1.7, 0.2],\n",
       "        [5.1, 3.7, 1.5, 0.4],\n",
       "        [4.6, 3.6, 1. , 0.2],\n",
       "        [5.1, 3.3, 1.7, 0.5],\n",
       "        [4.8, 3.4, 1.9, 0.2],\n",
       "        [5. , 3. , 1.6, 0.2],\n",
       "        [5. , 3.4, 1.6, 0.4],\n",
       "        [5.2, 3.5, 1.5, 0.2],\n",
       "        [5.2, 3.4, 1.4, 0.2],\n",
       "        [4.7, 3.2, 1.6, 0.2],\n",
       "        [4.8, 3.1, 1.6, 0.2],\n",
       "        [5.4, 3.4, 1.5, 0.4],\n",
       "        [5.2, 4.1, 1.5, 0.1],\n",
       "        [5.5, 4.2, 1.4, 0.2],\n",
       "        [4.9, 3.1, 1.5, 0.2],\n",
       "        [5. , 3.2, 1.2, 0.2],\n",
       "        [5.5, 3.5, 1.3, 0.2],\n",
       "        [4.9, 3.6, 1.4, 0.1],\n",
       "        [4.4, 3. , 1.3, 0.2],\n",
       "        [5.1, 3.4, 1.5, 0.2],\n",
       "        [5. , 3.5, 1.3, 0.3],\n",
       "        [4.5, 2.3, 1.3, 0.3],\n",
       "        [4.4, 3.2, 1.3, 0.2],\n",
       "        [5. , 3.5, 1.6, 0.6],\n",
       "        [5.1, 3.8, 1.9, 0.4],\n",
       "        [4.8, 3. , 1.4, 0.3],\n",
       "        [5.1, 3.8, 1.6, 0.2],\n",
       "        [4.6, 3.2, 1.4, 0.2],\n",
       "        [5.3, 3.7, 1.5, 0.2],\n",
       "        [5. , 3.3, 1.4, 0.2],\n",
       "        [7. , 3.2, 4.7, 1.4],\n",
       "        [6.4, 3.2, 4.5, 1.5],\n",
       "        [6.9, 3.1, 4.9, 1.5],\n",
       "        [5.5, 2.3, 4. , 1.3],\n",
       "        [6.5, 2.8, 4.6, 1.5],\n",
       "        [5.7, 2.8, 4.5, 1.3],\n",
       "        [6.3, 3.3, 4.7, 1.6],\n",
       "        [4.9, 2.4, 3.3, 1. ],\n",
       "        [6.6, 2.9, 4.6, 1.3],\n",
       "        [5.2, 2.7, 3.9, 1.4],\n",
       "        [5. , 2. , 3.5, 1. ],\n",
       "        [5.9, 3. , 4.2, 1.5],\n",
       "        [6. , 2.2, 4. , 1. ],\n",
       "        [6.1, 2.9, 4.7, 1.4],\n",
       "        [5.6, 2.9, 3.6, 1.3],\n",
       "        [6.7, 3.1, 4.4, 1.4],\n",
       "        [5.6, 3. , 4.5, 1.5],\n",
       "        [5.8, 2.7, 4.1, 1. ],\n",
       "        [6.2, 2.2, 4.5, 1.5],\n",
       "        [5.6, 2.5, 3.9, 1.1],\n",
       "        [5.9, 3.2, 4.8, 1.8],\n",
       "        [6.1, 2.8, 4. , 1.3],\n",
       "        [6.3, 2.5, 4.9, 1.5],\n",
       "        [6.1, 2.8, 4.7, 1.2],\n",
       "        [6.4, 2.9, 4.3, 1.3],\n",
       "        [6.6, 3. , 4.4, 1.4],\n",
       "        [6.8, 2.8, 4.8, 1.4],\n",
       "        [6.7, 3. , 5. , 1.7],\n",
       "        [6. , 2.9, 4.5, 1.5],\n",
       "        [5.7, 2.6, 3.5, 1. ],\n",
       "        [5.5, 2.4, 3.8, 1.1],\n",
       "        [5.5, 2.4, 3.7, 1. ],\n",
       "        [5.8, 2.7, 3.9, 1.2],\n",
       "        [6. , 2.7, 5.1, 1.6],\n",
       "        [5.4, 3. , 4.5, 1.5],\n",
       "        [6. , 3.4, 4.5, 1.6],\n",
       "        [6.7, 3.1, 4.7, 1.5],\n",
       "        [6.3, 2.3, 4.4, 1.3],\n",
       "        [5.6, 3. , 4.1, 1.3],\n",
       "        [5.5, 2.5, 4. , 1.3],\n",
       "        [5.5, 2.6, 4.4, 1.2],\n",
       "        [6.1, 3. , 4.6, 1.4],\n",
       "        [5.8, 2.6, 4. , 1.2],\n",
       "        [5. , 2.3, 3.3, 1. ],\n",
       "        [5.6, 2.7, 4.2, 1.3],\n",
       "        [5.7, 3. , 4.2, 1.2],\n",
       "        [5.7, 2.9, 4.2, 1.3],\n",
       "        [6.2, 2.9, 4.3, 1.3],\n",
       "        [5.1, 2.5, 3. , 1.1],\n",
       "        [5.7, 2.8, 4.1, 1.3],\n",
       "        [6.3, 3.3, 6. , 2.5],\n",
       "        [5.8, 2.7, 5.1, 1.9],\n",
       "        [7.1, 3. , 5.9, 2.1],\n",
       "        [6.3, 2.9, 5.6, 1.8],\n",
       "        [6.5, 3. , 5.8, 2.2],\n",
       "        [7.6, 3. , 6.6, 2.1],\n",
       "        [4.9, 2.5, 4.5, 1.7],\n",
       "        [7.3, 2.9, 6.3, 1.8],\n",
       "        [6.7, 2.5, 5.8, 1.8],\n",
       "        [7.2, 3.6, 6.1, 2.5],\n",
       "        [6.5, 3.2, 5.1, 2. ],\n",
       "        [6.4, 2.7, 5.3, 1.9],\n",
       "        [6.8, 3. , 5.5, 2.1],\n",
       "        [5.7, 2.5, 5. , 2. ],\n",
       "        [5.8, 2.8, 5.1, 2.4],\n",
       "        [6.4, 3.2, 5.3, 2.3],\n",
       "        [6.5, 3. , 5.5, 1.8],\n",
       "        [7.7, 3.8, 6.7, 2.2],\n",
       "        [7.7, 2.6, 6.9, 2.3],\n",
       "        [6. , 2.2, 5. , 1.5],\n",
       "        [6.9, 3.2, 5.7, 2.3],\n",
       "        [5.6, 2.8, 4.9, 2. ],\n",
       "        [7.7, 2.8, 6.7, 2. ],\n",
       "        [6.3, 2.7, 4.9, 1.8],\n",
       "        [6.7, 3.3, 5.7, 2.1],\n",
       "        [7.2, 3.2, 6. , 1.8],\n",
       "        [6.2, 2.8, 4.8, 1.8],\n",
       "        [6.1, 3. , 4.9, 1.8],\n",
       "        [6.4, 2.8, 5.6, 2.1],\n",
       "        [7.2, 3. , 5.8, 1.6],\n",
       "        [7.4, 2.8, 6.1, 1.9],\n",
       "        [7.9, 3.8, 6.4, 2. ],\n",
       "        [6.4, 2.8, 5.6, 2.2],\n",
       "        [6.3, 2.8, 5.1, 1.5],\n",
       "        [6.1, 2.6, 5.6, 1.4],\n",
       "        [7.7, 3. , 6.1, 2.3],\n",
       "        [6.3, 3.4, 5.6, 2.4],\n",
       "        [6.4, 3.1, 5.5, 1.8],\n",
       "        [6. , 3. , 4.8, 1.8],\n",
       "        [6.9, 3.1, 5.4, 2.1],\n",
       "        [6.7, 3.1, 5.6, 2.4],\n",
       "        [6.9, 3.1, 5.1, 2.3],\n",
       "        [5.8, 2.7, 5.1, 1.9],\n",
       "        [6.8, 3.2, 5.9, 2.3],\n",
       "        [6.7, 3.3, 5.7, 2.5],\n",
       "        [6.7, 3. , 5.2, 2.3],\n",
       "        [6.3, 2.5, 5. , 1.9],\n",
       "        [6.5, 3. , 5.2, 2. ],\n",
       "        [6.2, 3.4, 5.4, 2.3],\n",
       "        [5.9, 3. , 5.1, 1.8]]),\n",
       " 'target': array([0, 0, 0, 0, 0, 0, 0, 0, 0, 0, 0, 0, 0, 0, 0, 0, 0, 0, 0, 0, 0, 0,\n",
       "        0, 0, 0, 0, 0, 0, 0, 0, 0, 0, 0, 0, 0, 0, 0, 0, 0, 0, 0, 0, 0, 0,\n",
       "        0, 0, 0, 0, 0, 0, 1, 1, 1, 1, 1, 1, 1, 1, 1, 1, 1, 1, 1, 1, 1, 1,\n",
       "        1, 1, 1, 1, 1, 1, 1, 1, 1, 1, 1, 1, 1, 1, 1, 1, 1, 1, 1, 1, 1, 1,\n",
       "        1, 1, 1, 1, 1, 1, 1, 1, 1, 1, 1, 1, 2, 2, 2, 2, 2, 2, 2, 2, 2, 2,\n",
       "        2, 2, 2, 2, 2, 2, 2, 2, 2, 2, 2, 2, 2, 2, 2, 2, 2, 2, 2, 2, 2, 2,\n",
       "        2, 2, 2, 2, 2, 2, 2, 2, 2, 2, 2, 2, 2, 2, 2, 2, 2, 2]),\n",
       " 'frame': None,\n",
       " 'target_names': array(['setosa', 'versicolor', 'virginica'], dtype='<U10'),\n",
       " 'DESCR': '.. _iris_dataset:\\n\\nIris plants dataset\\n--------------------\\n\\n**Data Set Characteristics:**\\n\\n    :Number of Instances: 150 (50 in each of three classes)\\n    :Number of Attributes: 4 numeric, predictive attributes and the class\\n    :Attribute Information:\\n        - sepal length in cm\\n        - sepal width in cm\\n        - petal length in cm\\n        - petal width in cm\\n        - class:\\n                - Iris-Setosa\\n                - Iris-Versicolour\\n                - Iris-Virginica\\n                \\n    :Summary Statistics:\\n\\n    ============== ==== ==== ======= ===== ====================\\n                    Min  Max   Mean    SD   Class Correlation\\n    ============== ==== ==== ======= ===== ====================\\n    sepal length:   4.3  7.9   5.84   0.83    0.7826\\n    sepal width:    2.0  4.4   3.05   0.43   -0.4194\\n    petal length:   1.0  6.9   3.76   1.76    0.9490  (high!)\\n    petal width:    0.1  2.5   1.20   0.76    0.9565  (high!)\\n    ============== ==== ==== ======= ===== ====================\\n\\n    :Missing Attribute Values: None\\n    :Class Distribution: 33.3% for each of 3 classes.\\n    :Creator: R.A. Fisher\\n    :Donor: Michael Marshall (MARSHALL%PLU@io.arc.nasa.gov)\\n    :Date: July, 1988\\n\\nThe famous Iris database, first used by Sir R.A. Fisher. The dataset is taken\\nfrom Fisher\\'s paper. Note that it\\'s the same as in R, but not as in the UCI\\nMachine Learning Repository, which has two wrong data points.\\n\\nThis is perhaps the best known database to be found in the\\npattern recognition literature.  Fisher\\'s paper is a classic in the field and\\nis referenced frequently to this day.  (See Duda & Hart, for example.)  The\\ndata set contains 3 classes of 50 instances each, where each class refers to a\\ntype of iris plant.  One class is linearly separable from the other 2; the\\nlatter are NOT linearly separable from each other.\\n\\n.. topic:: References\\n\\n   - Fisher, R.A. \"The use of multiple measurements in taxonomic problems\"\\n     Annual Eugenics, 7, Part II, 179-188 (1936); also in \"Contributions to\\n     Mathematical Statistics\" (John Wiley, NY, 1950).\\n   - Duda, R.O., & Hart, P.E. (1973) Pattern Classification and Scene Analysis.\\n     (Q327.D83) John Wiley & Sons.  ISBN 0-471-22361-1.  See page 218.\\n   - Dasarathy, B.V. (1980) \"Nosing Around the Neighborhood: A New System\\n     Structure and Classification Rule for Recognition in Partially Exposed\\n     Environments\".  IEEE Transactions on Pattern Analysis and Machine\\n     Intelligence, Vol. PAMI-2, No. 1, 67-71.\\n   - Gates, G.W. (1972) \"The Reduced Nearest Neighbor Rule\".  IEEE Transactions\\n     on Information Theory, May 1972, 431-433.\\n   - See also: 1988 MLC Proceedings, 54-64.  Cheeseman et al\"s AUTOCLASS II\\n     conceptual clustering system finds 3 classes in the data.\\n   - Many, many more ...',\n",
       " 'feature_names': ['sepal length (cm)',\n",
       "  'sepal width (cm)',\n",
       "  'petal length (cm)',\n",
       "  'petal width (cm)'],\n",
       " 'filename': 'iris.csv',\n",
       " 'data_module': 'sklearn.datasets.data'}"
      ]
     },
     "execution_count": 4,
     "metadata": {},
     "output_type": "execute_result"
    }
   ],
   "source": [
    "iris"
   ]
  },
  {
   "cell_type": "code",
   "execution_count": 5,
   "id": "ce49a5e0",
   "metadata": {},
   "outputs": [
    {
     "name": "stdout",
     "output_type": "stream",
     "text": [
      "dict_keys(['data', 'target', 'frame', 'target_names', 'DESCR', 'feature_names', 'filename', 'data_module'])\n"
     ]
    }
   ],
   "source": [
    "print(iris.keys())"
   ]
  },
  {
   "cell_type": "code",
   "execution_count": 6,
   "id": "e4d9bb83",
   "metadata": {},
   "outputs": [],
   "source": [
    "data = iris['data']"
   ]
  },
  {
   "cell_type": "code",
   "execution_count": 7,
   "id": "331ca363",
   "metadata": {},
   "outputs": [],
   "source": [
    "target = iris['target']"
   ]
  },
  {
   "cell_type": "markdown",
   "id": "dcd7c379",
   "metadata": {},
   "source": [
    "Primeros diez elementos de \"data\":"
   ]
  },
  {
   "cell_type": "code",
   "execution_count": 8,
   "id": "2581c703",
   "metadata": {},
   "outputs": [
    {
     "data": {
      "text/plain": [
       "array([[5.1, 3.5, 1.4, 0.2],\n",
       "       [4.9, 3. , 1.4, 0.2],\n",
       "       [4.7, 3.2, 1.3, 0.2],\n",
       "       [4.6, 3.1, 1.5, 0.2],\n",
       "       [5. , 3.6, 1.4, 0.2],\n",
       "       [5.4, 3.9, 1.7, 0.4],\n",
       "       [4.6, 3.4, 1.4, 0.3],\n",
       "       [5. , 3.4, 1.5, 0.2],\n",
       "       [4.4, 2.9, 1.4, 0.2],\n",
       "       [4.9, 3.1, 1.5, 0.1]])"
      ]
     },
     "execution_count": 8,
     "metadata": {},
     "output_type": "execute_result"
    }
   ],
   "source": [
    "data[0:10]"
   ]
  },
  {
   "cell_type": "markdown",
   "id": "135c3af9",
   "metadata": {},
   "source": [
    "Primeros diez elementos de \"target\":"
   ]
  },
  {
   "cell_type": "code",
   "execution_count": 9,
   "id": "f9e5a11f",
   "metadata": {},
   "outputs": [
    {
     "data": {
      "text/plain": [
       "array([0, 0, 0, 0, 0, 0, 0, 0, 0, 0])"
      ]
     },
     "execution_count": 9,
     "metadata": {},
     "output_type": "execute_result"
    }
   ],
   "source": [
    "target[0:10]"
   ]
  },
  {
   "cell_type": "markdown",
   "id": "f78cb2a4",
   "metadata": {},
   "source": [
    "## Ejercicio 2:"
   ]
  },
  {
   "cell_type": "markdown",
   "id": "01c5516a",
   "metadata": {},
   "source": [
    "Concatenar \"data\" y \"target\" en un nuevo array, y mostrar los 5 primeros registros."
   ]
  },
  {
   "cell_type": "code",
   "execution_count": 10,
   "id": "e2397dd4",
   "metadata": {},
   "outputs": [
    {
     "ename": "ValueError",
     "evalue": "all the input arrays must have same number of dimensions, but the array at index 0 has 2 dimension(s) and the array at index 1 has 1 dimension(s)",
     "output_type": "error",
     "traceback": [
      "\u001b[1;31m---------------------------------------------------------------------------\u001b[0m",
      "\u001b[1;31mValueError\u001b[0m                                Traceback (most recent call last)",
      "Cell \u001b[1;32mIn[10], line 2\u001b[0m\n\u001b[0;32m      1\u001b[0m \u001b[38;5;66;03m# No se pueden concatenar de forma directa, porque tienen diferente número de dimensiones.\u001b[39;00m\n\u001b[1;32m----> 2\u001b[0m new_array \u001b[38;5;241m=\u001b[39m \u001b[43mnp\u001b[49m\u001b[38;5;241;43m.\u001b[39;49m\u001b[43mconcatenate\u001b[49m\u001b[43m(\u001b[49m\u001b[43m(\u001b[49m\u001b[43mdata\u001b[49m\u001b[43m,\u001b[49m\u001b[43m \u001b[49m\u001b[43mtarget\u001b[49m\u001b[43m)\u001b[49m\u001b[43m)\u001b[49m\n",
      "File \u001b[1;32m<__array_function__ internals>:200\u001b[0m, in \u001b[0;36mconcatenate\u001b[1;34m(*args, **kwargs)\u001b[0m\n",
      "\u001b[1;31mValueError\u001b[0m: all the input arrays must have same number of dimensions, but the array at index 0 has 2 dimension(s) and the array at index 1 has 1 dimension(s)"
     ]
    }
   ],
   "source": [
    "# No se pueden concatenar de forma directa, porque tienen diferente número de dimensiones.\n",
    "new_array = np.concatenate((data, target))"
   ]
  },
  {
   "cell_type": "markdown",
   "id": "8d2f0e7b",
   "metadata": {},
   "source": [
    "Si queremos concatenarlas, necesitamos que las dimensiones concuerden. Vemos que al menos la longitud sí es la misma.\n"
   ]
  },
  {
   "cell_type": "code",
   "execution_count": null,
   "id": "8fbad144",
   "metadata": {},
   "outputs": [],
   "source": [
    "len(data)\n"
   ]
  },
  {
   "cell_type": "code",
   "execution_count": 11,
   "id": "3e936587",
   "metadata": {},
   "outputs": [
    {
     "data": {
      "text/plain": [
       "(150, 4)"
      ]
     },
     "execution_count": 11,
     "metadata": {},
     "output_type": "execute_result"
    }
   ],
   "source": [
    "data.shape  # Son 150 filas que contienen sub-arrays de 4 elementos."
   ]
  },
  {
   "cell_type": "code",
   "execution_count": 12,
   "id": "d7a382f4",
   "metadata": {},
   "outputs": [
    {
     "data": {
      "text/plain": [
       "150"
      ]
     },
     "execution_count": 12,
     "metadata": {},
     "output_type": "execute_result"
    }
   ],
   "source": [
    "len(target)  "
   ]
  },
  {
   "cell_type": "code",
   "execution_count": 13,
   "id": "e723c721",
   "metadata": {},
   "outputs": [
    {
     "data": {
      "text/plain": [
       "(150,)"
      ]
     },
     "execution_count": 13,
     "metadata": {},
     "output_type": "execute_result"
    }
   ],
   "source": [
    "target.shape  # 150 filas con elementos individuales."
   ]
  },
  {
   "cell_type": "markdown",
   "id": "f4d70fa5",
   "metadata": {},
   "source": [
    "Podemos \"apilarlas\" en la dimensión de las filas, con un \"column stack\", que implica un \"apilamiento horizontal\". En otras palabras, como tenemos 150 filas en ambos arrays, podemos combinarlos a nivel de filas."
   ]
  },
  {
   "cell_type": "code",
   "execution_count": 14,
   "id": "ed1e20ff",
   "metadata": {},
   "outputs": [],
   "source": [
    "horizontal_stack = np.column_stack((data,target))"
   ]
  },
  {
   "cell_type": "code",
   "execution_count": 15,
   "id": "4584673f",
   "metadata": {},
   "outputs": [
    {
     "data": {
      "text/plain": [
       "array([[5.1, 3.5, 1.4, 0.2, 0. ],\n",
       "       [4.9, 3. , 1.4, 0.2, 0. ],\n",
       "       [4.7, 3.2, 1.3, 0.2, 0. ],\n",
       "       [4.6, 3.1, 1.5, 0.2, 0. ],\n",
       "       [5. , 3.6, 1.4, 0.2, 0. ],\n",
       "       [5.4, 3.9, 1.7, 0.4, 0. ],\n",
       "       [4.6, 3.4, 1.4, 0.3, 0. ],\n",
       "       [5. , 3.4, 1.5, 0.2, 0. ],\n",
       "       [4.4, 2.9, 1.4, 0.2, 0. ],\n",
       "       [4.9, 3.1, 1.5, 0.1, 0. ],\n",
       "       [5.4, 3.7, 1.5, 0.2, 0. ],\n",
       "       [4.8, 3.4, 1.6, 0.2, 0. ],\n",
       "       [4.8, 3. , 1.4, 0.1, 0. ],\n",
       "       [4.3, 3. , 1.1, 0.1, 0. ],\n",
       "       [5.8, 4. , 1.2, 0.2, 0. ],\n",
       "       [5.7, 4.4, 1.5, 0.4, 0. ],\n",
       "       [5.4, 3.9, 1.3, 0.4, 0. ],\n",
       "       [5.1, 3.5, 1.4, 0.3, 0. ],\n",
       "       [5.7, 3.8, 1.7, 0.3, 0. ],\n",
       "       [5.1, 3.8, 1.5, 0.3, 0. ],\n",
       "       [5.4, 3.4, 1.7, 0.2, 0. ],\n",
       "       [5.1, 3.7, 1.5, 0.4, 0. ],\n",
       "       [4.6, 3.6, 1. , 0.2, 0. ],\n",
       "       [5.1, 3.3, 1.7, 0.5, 0. ],\n",
       "       [4.8, 3.4, 1.9, 0.2, 0. ],\n",
       "       [5. , 3. , 1.6, 0.2, 0. ],\n",
       "       [5. , 3.4, 1.6, 0.4, 0. ],\n",
       "       [5.2, 3.5, 1.5, 0.2, 0. ],\n",
       "       [5.2, 3.4, 1.4, 0.2, 0. ],\n",
       "       [4.7, 3.2, 1.6, 0.2, 0. ],\n",
       "       [4.8, 3.1, 1.6, 0.2, 0. ],\n",
       "       [5.4, 3.4, 1.5, 0.4, 0. ],\n",
       "       [5.2, 4.1, 1.5, 0.1, 0. ],\n",
       "       [5.5, 4.2, 1.4, 0.2, 0. ],\n",
       "       [4.9, 3.1, 1.5, 0.2, 0. ],\n",
       "       [5. , 3.2, 1.2, 0.2, 0. ],\n",
       "       [5.5, 3.5, 1.3, 0.2, 0. ],\n",
       "       [4.9, 3.6, 1.4, 0.1, 0. ],\n",
       "       [4.4, 3. , 1.3, 0.2, 0. ],\n",
       "       [5.1, 3.4, 1.5, 0.2, 0. ],\n",
       "       [5. , 3.5, 1.3, 0.3, 0. ],\n",
       "       [4.5, 2.3, 1.3, 0.3, 0. ],\n",
       "       [4.4, 3.2, 1.3, 0.2, 0. ],\n",
       "       [5. , 3.5, 1.6, 0.6, 0. ],\n",
       "       [5.1, 3.8, 1.9, 0.4, 0. ],\n",
       "       [4.8, 3. , 1.4, 0.3, 0. ],\n",
       "       [5.1, 3.8, 1.6, 0.2, 0. ],\n",
       "       [4.6, 3.2, 1.4, 0.2, 0. ],\n",
       "       [5.3, 3.7, 1.5, 0.2, 0. ],\n",
       "       [5. , 3.3, 1.4, 0.2, 0. ],\n",
       "       [7. , 3.2, 4.7, 1.4, 1. ],\n",
       "       [6.4, 3.2, 4.5, 1.5, 1. ],\n",
       "       [6.9, 3.1, 4.9, 1.5, 1. ],\n",
       "       [5.5, 2.3, 4. , 1.3, 1. ],\n",
       "       [6.5, 2.8, 4.6, 1.5, 1. ],\n",
       "       [5.7, 2.8, 4.5, 1.3, 1. ],\n",
       "       [6.3, 3.3, 4.7, 1.6, 1. ],\n",
       "       [4.9, 2.4, 3.3, 1. , 1. ],\n",
       "       [6.6, 2.9, 4.6, 1.3, 1. ],\n",
       "       [5.2, 2.7, 3.9, 1.4, 1. ],\n",
       "       [5. , 2. , 3.5, 1. , 1. ],\n",
       "       [5.9, 3. , 4.2, 1.5, 1. ],\n",
       "       [6. , 2.2, 4. , 1. , 1. ],\n",
       "       [6.1, 2.9, 4.7, 1.4, 1. ],\n",
       "       [5.6, 2.9, 3.6, 1.3, 1. ],\n",
       "       [6.7, 3.1, 4.4, 1.4, 1. ],\n",
       "       [5.6, 3. , 4.5, 1.5, 1. ],\n",
       "       [5.8, 2.7, 4.1, 1. , 1. ],\n",
       "       [6.2, 2.2, 4.5, 1.5, 1. ],\n",
       "       [5.6, 2.5, 3.9, 1.1, 1. ],\n",
       "       [5.9, 3.2, 4.8, 1.8, 1. ],\n",
       "       [6.1, 2.8, 4. , 1.3, 1. ],\n",
       "       [6.3, 2.5, 4.9, 1.5, 1. ],\n",
       "       [6.1, 2.8, 4.7, 1.2, 1. ],\n",
       "       [6.4, 2.9, 4.3, 1.3, 1. ],\n",
       "       [6.6, 3. , 4.4, 1.4, 1. ],\n",
       "       [6.8, 2.8, 4.8, 1.4, 1. ],\n",
       "       [6.7, 3. , 5. , 1.7, 1. ],\n",
       "       [6. , 2.9, 4.5, 1.5, 1. ],\n",
       "       [5.7, 2.6, 3.5, 1. , 1. ],\n",
       "       [5.5, 2.4, 3.8, 1.1, 1. ],\n",
       "       [5.5, 2.4, 3.7, 1. , 1. ],\n",
       "       [5.8, 2.7, 3.9, 1.2, 1. ],\n",
       "       [6. , 2.7, 5.1, 1.6, 1. ],\n",
       "       [5.4, 3. , 4.5, 1.5, 1. ],\n",
       "       [6. , 3.4, 4.5, 1.6, 1. ],\n",
       "       [6.7, 3.1, 4.7, 1.5, 1. ],\n",
       "       [6.3, 2.3, 4.4, 1.3, 1. ],\n",
       "       [5.6, 3. , 4.1, 1.3, 1. ],\n",
       "       [5.5, 2.5, 4. , 1.3, 1. ],\n",
       "       [5.5, 2.6, 4.4, 1.2, 1. ],\n",
       "       [6.1, 3. , 4.6, 1.4, 1. ],\n",
       "       [5.8, 2.6, 4. , 1.2, 1. ],\n",
       "       [5. , 2.3, 3.3, 1. , 1. ],\n",
       "       [5.6, 2.7, 4.2, 1.3, 1. ],\n",
       "       [5.7, 3. , 4.2, 1.2, 1. ],\n",
       "       [5.7, 2.9, 4.2, 1.3, 1. ],\n",
       "       [6.2, 2.9, 4.3, 1.3, 1. ],\n",
       "       [5.1, 2.5, 3. , 1.1, 1. ],\n",
       "       [5.7, 2.8, 4.1, 1.3, 1. ],\n",
       "       [6.3, 3.3, 6. , 2.5, 2. ],\n",
       "       [5.8, 2.7, 5.1, 1.9, 2. ],\n",
       "       [7.1, 3. , 5.9, 2.1, 2. ],\n",
       "       [6.3, 2.9, 5.6, 1.8, 2. ],\n",
       "       [6.5, 3. , 5.8, 2.2, 2. ],\n",
       "       [7.6, 3. , 6.6, 2.1, 2. ],\n",
       "       [4.9, 2.5, 4.5, 1.7, 2. ],\n",
       "       [7.3, 2.9, 6.3, 1.8, 2. ],\n",
       "       [6.7, 2.5, 5.8, 1.8, 2. ],\n",
       "       [7.2, 3.6, 6.1, 2.5, 2. ],\n",
       "       [6.5, 3.2, 5.1, 2. , 2. ],\n",
       "       [6.4, 2.7, 5.3, 1.9, 2. ],\n",
       "       [6.8, 3. , 5.5, 2.1, 2. ],\n",
       "       [5.7, 2.5, 5. , 2. , 2. ],\n",
       "       [5.8, 2.8, 5.1, 2.4, 2. ],\n",
       "       [6.4, 3.2, 5.3, 2.3, 2. ],\n",
       "       [6.5, 3. , 5.5, 1.8, 2. ],\n",
       "       [7.7, 3.8, 6.7, 2.2, 2. ],\n",
       "       [7.7, 2.6, 6.9, 2.3, 2. ],\n",
       "       [6. , 2.2, 5. , 1.5, 2. ],\n",
       "       [6.9, 3.2, 5.7, 2.3, 2. ],\n",
       "       [5.6, 2.8, 4.9, 2. , 2. ],\n",
       "       [7.7, 2.8, 6.7, 2. , 2. ],\n",
       "       [6.3, 2.7, 4.9, 1.8, 2. ],\n",
       "       [6.7, 3.3, 5.7, 2.1, 2. ],\n",
       "       [7.2, 3.2, 6. , 1.8, 2. ],\n",
       "       [6.2, 2.8, 4.8, 1.8, 2. ],\n",
       "       [6.1, 3. , 4.9, 1.8, 2. ],\n",
       "       [6.4, 2.8, 5.6, 2.1, 2. ],\n",
       "       [7.2, 3. , 5.8, 1.6, 2. ],\n",
       "       [7.4, 2.8, 6.1, 1.9, 2. ],\n",
       "       [7.9, 3.8, 6.4, 2. , 2. ],\n",
       "       [6.4, 2.8, 5.6, 2.2, 2. ],\n",
       "       [6.3, 2.8, 5.1, 1.5, 2. ],\n",
       "       [6.1, 2.6, 5.6, 1.4, 2. ],\n",
       "       [7.7, 3. , 6.1, 2.3, 2. ],\n",
       "       [6.3, 3.4, 5.6, 2.4, 2. ],\n",
       "       [6.4, 3.1, 5.5, 1.8, 2. ],\n",
       "       [6. , 3. , 4.8, 1.8, 2. ],\n",
       "       [6.9, 3.1, 5.4, 2.1, 2. ],\n",
       "       [6.7, 3.1, 5.6, 2.4, 2. ],\n",
       "       [6.9, 3.1, 5.1, 2.3, 2. ],\n",
       "       [5.8, 2.7, 5.1, 1.9, 2. ],\n",
       "       [6.8, 3.2, 5.9, 2.3, 2. ],\n",
       "       [6.7, 3.3, 5.7, 2.5, 2. ],\n",
       "       [6.7, 3. , 5.2, 2.3, 2. ],\n",
       "       [6.3, 2.5, 5. , 1.9, 2. ],\n",
       "       [6.5, 3. , 5.2, 2. , 2. ],\n",
       "       [6.2, 3.4, 5.4, 2.3, 2. ],\n",
       "       [5.9, 3. , 5.1, 1.8, 2. ]])"
      ]
     },
     "execution_count": 15,
     "metadata": {},
     "output_type": "execute_result"
    }
   ],
   "source": [
    "horizontal_stack"
   ]
  },
  {
   "cell_type": "code",
   "execution_count": null,
   "id": "3a2b5f74",
   "metadata": {},
   "outputs": [],
   "source": []
  },
  {
   "cell_type": "markdown",
   "id": "4f5f8e98",
   "metadata": {},
   "source": [
    "## Ejercicio 3:"
   ]
  },
  {
   "cell_type": "markdown",
   "id": "25bee3b9",
   "metadata": {},
   "source": [
    "Calcular la media y desviación estándar de la longitud del sépalo ((\"sepal length (cm)\") y la longitud del pétalo (\"petal length (cm)\"). Mostrar los resultados con dos decimales."
   ]
  },
  {
   "cell_type": "code",
   "execution_count": 16,
   "id": "28e94fe6",
   "metadata": {},
   "outputs": [
    {
     "data": {
      "text/plain": [
       "['sepal length (cm)',\n",
       " 'sepal width (cm)',\n",
       " 'petal length (cm)',\n",
       " 'petal width (cm)']"
      ]
     },
     "execution_count": 16,
     "metadata": {},
     "output_type": "execute_result"
    }
   ],
   "source": [
    "iris['feature_names']\n",
    "\n",
    "# Se entiende que \"sepal length (cm)\" es el primer elemento de cada sub-array contenido en data.\n",
    "# Asimismo, \"petal length (cm) es el tercer elemento de cada sub-array contenido en data\""
   ]
  },
  {
   "cell_type": "code",
   "execution_count": 17,
   "id": "57cc1e2c",
   "metadata": {},
   "outputs": [
    {
     "data": {
      "text/plain": [
       "150"
      ]
     },
     "execution_count": 17,
     "metadata": {},
     "output_type": "execute_result"
    }
   ],
   "source": [
    "len(data)    # Esta es la cantidad de elementos que hay en el array \"data\". Ahora usaremos este dato."
   ]
  },
  {
   "cell_type": "code",
   "execution_count": 18,
   "id": "af099ac8",
   "metadata": {},
   "outputs": [],
   "source": [
    "sepal_length = np.empty(150)  # Creamos un array vacío unidimensional de 150 elementos.\n",
    "petal_length = np.empty(150)  # Creamos otro array vacío unidimensional de 150 elementos.\n",
    "    \n",
    "for i in range(0,150):       # Tomamos elementos concretos de \"data\" en sendos arrays con longitud de sépalo y pétalo.\n",
    "    sepal_length[i] = data[i][0]\n",
    "    petal_length[i] = data[i][2]"
   ]
  },
  {
   "cell_type": "code",
   "execution_count": 19,
   "id": "d0bdb018",
   "metadata": {},
   "outputs": [
    {
     "data": {
      "text/plain": [
       "array([5.1, 4.9, 4.7, 4.6, 5. , 5.4, 4.6, 5. , 4.4, 4.9, 5.4, 4.8, 4.8,\n",
       "       4.3, 5.8, 5.7, 5.4, 5.1, 5.7, 5.1, 5.4, 5.1, 4.6, 5.1, 4.8, 5. ,\n",
       "       5. , 5.2, 5.2, 4.7, 4.8, 5.4, 5.2, 5.5, 4.9, 5. , 5.5, 4.9, 4.4,\n",
       "       5.1, 5. , 4.5, 4.4, 5. , 5.1, 4.8, 5.1, 4.6, 5.3, 5. , 7. , 6.4,\n",
       "       6.9, 5.5, 6.5, 5.7, 6.3, 4.9, 6.6, 5.2, 5. , 5.9, 6. , 6.1, 5.6,\n",
       "       6.7, 5.6, 5.8, 6.2, 5.6, 5.9, 6.1, 6.3, 6.1, 6.4, 6.6, 6.8, 6.7,\n",
       "       6. , 5.7, 5.5, 5.5, 5.8, 6. , 5.4, 6. , 6.7, 6.3, 5.6, 5.5, 5.5,\n",
       "       6.1, 5.8, 5. , 5.6, 5.7, 5.7, 6.2, 5.1, 5.7, 6.3, 5.8, 7.1, 6.3,\n",
       "       6.5, 7.6, 4.9, 7.3, 6.7, 7.2, 6.5, 6.4, 6.8, 5.7, 5.8, 6.4, 6.5,\n",
       "       7.7, 7.7, 6. , 6.9, 5.6, 7.7, 6.3, 6.7, 7.2, 6.2, 6.1, 6.4, 7.2,\n",
       "       7.4, 7.9, 6.4, 6.3, 6.1, 7.7, 6.3, 6.4, 6. , 6.9, 6.7, 6.9, 5.8,\n",
       "       6.8, 6.7, 6.7, 6.3, 6.5, 6.2, 5.9])"
      ]
     },
     "execution_count": 19,
     "metadata": {},
     "output_type": "execute_result"
    }
   ],
   "source": [
    "sepal_length"
   ]
  },
  {
   "cell_type": "code",
   "execution_count": 20,
   "id": "3b7661b7",
   "metadata": {},
   "outputs": [
    {
     "data": {
      "text/plain": [
       "array([1.4, 1.4, 1.3, 1.5, 1.4, 1.7, 1.4, 1.5, 1.4, 1.5, 1.5, 1.6, 1.4,\n",
       "       1.1, 1.2, 1.5, 1.3, 1.4, 1.7, 1.5, 1.7, 1.5, 1. , 1.7, 1.9, 1.6,\n",
       "       1.6, 1.5, 1.4, 1.6, 1.6, 1.5, 1.5, 1.4, 1.5, 1.2, 1.3, 1.4, 1.3,\n",
       "       1.5, 1.3, 1.3, 1.3, 1.6, 1.9, 1.4, 1.6, 1.4, 1.5, 1.4, 4.7, 4.5,\n",
       "       4.9, 4. , 4.6, 4.5, 4.7, 3.3, 4.6, 3.9, 3.5, 4.2, 4. , 4.7, 3.6,\n",
       "       4.4, 4.5, 4.1, 4.5, 3.9, 4.8, 4. , 4.9, 4.7, 4.3, 4.4, 4.8, 5. ,\n",
       "       4.5, 3.5, 3.8, 3.7, 3.9, 5.1, 4.5, 4.5, 4.7, 4.4, 4.1, 4. , 4.4,\n",
       "       4.6, 4. , 3.3, 4.2, 4.2, 4.2, 4.3, 3. , 4.1, 6. , 5.1, 5.9, 5.6,\n",
       "       5.8, 6.6, 4.5, 6.3, 5.8, 6.1, 5.1, 5.3, 5.5, 5. , 5.1, 5.3, 5.5,\n",
       "       6.7, 6.9, 5. , 5.7, 4.9, 6.7, 4.9, 5.7, 6. , 4.8, 4.9, 5.6, 5.8,\n",
       "       6.1, 6.4, 5.6, 5.1, 5.6, 6.1, 5.6, 5.5, 4.8, 5.4, 5.6, 5.1, 5.1,\n",
       "       5.9, 5.7, 5.2, 5. , 5.2, 5.4, 5.1])"
      ]
     },
     "execution_count": 20,
     "metadata": {},
     "output_type": "execute_result"
    }
   ],
   "source": [
    "petal_length"
   ]
  },
  {
   "cell_type": "markdown",
   "id": "bf288cad",
   "metadata": {},
   "source": [
    "Media aritmética:"
   ]
  },
  {
   "cell_type": "code",
   "execution_count": 21,
   "id": "7c36ab9e",
   "metadata": {},
   "outputs": [
    {
     "data": {
      "text/plain": [
       "5.843333333333334"
      ]
     },
     "execution_count": 21,
     "metadata": {},
     "output_type": "execute_result"
    }
   ],
   "source": [
    "sepal_length.mean()"
   ]
  },
  {
   "cell_type": "code",
   "execution_count": 22,
   "id": "ce792c4f",
   "metadata": {},
   "outputs": [
    {
     "name": "stdout",
     "output_type": "stream",
     "text": [
      "5.84\n"
     ]
    }
   ],
   "source": [
    "print(\"{:.2f}\".format(sepal_length.mean()))  # Con dos decimales."
   ]
  },
  {
   "cell_type": "code",
   "execution_count": 23,
   "id": "d2831c31",
   "metadata": {},
   "outputs": [
    {
     "data": {
      "text/plain": [
       "3.7580000000000005"
      ]
     },
     "execution_count": 23,
     "metadata": {},
     "output_type": "execute_result"
    }
   ],
   "source": [
    "petal_length.mean()"
   ]
  },
  {
   "cell_type": "code",
   "execution_count": 24,
   "id": "20d66ec8",
   "metadata": {},
   "outputs": [
    {
     "name": "stdout",
     "output_type": "stream",
     "text": [
      "3.76\n"
     ]
    }
   ],
   "source": [
    "print(\"{:.2f}\".format(petal_length.mean()))  # Con dos decimales."
   ]
  },
  {
   "cell_type": "markdown",
   "id": "c1ae47a9",
   "metadata": {},
   "source": [
    "Desviación estándar (con dos decimales):"
   ]
  },
  {
   "cell_type": "code",
   "execution_count": 25,
   "id": "c758ed38",
   "metadata": {},
   "outputs": [
    {
     "name": "stdout",
     "output_type": "stream",
     "text": [
      "0.83\n"
     ]
    }
   ],
   "source": [
    "print(\"{:.2f}\".format(np.std(sepal_length)))"
   ]
  },
  {
   "cell_type": "code",
   "execution_count": 26,
   "id": "ab4b9a9e",
   "metadata": {},
   "outputs": [
    {
     "name": "stdout",
     "output_type": "stream",
     "text": [
      "1.76\n"
     ]
    }
   ],
   "source": [
    "print(\"{:.2f}\".format(np.std(petal_length))) "
   ]
  },
  {
   "cell_type": "code",
   "execution_count": null,
   "id": "885ae909",
   "metadata": {},
   "outputs": [],
   "source": []
  },
  {
   "cell_type": "markdown",
   "id": "6cdcf60a",
   "metadata": {},
   "source": [
    "## Ejercicio 4:"
   ]
  },
  {
   "cell_type": "markdown",
   "id": "4fc2c71d",
   "metadata": {},
   "source": [
    "Seleccionar una muestra aleatoria de 20 registros del conjunto obtenido en el ejercicio anterior.\n",
    "Nota: entiendo que se refiere al ejercicio 2, y no al 3."
   ]
  },
  {
   "cell_type": "markdown",
   "id": "2c9ea518",
   "metadata": {},
   "source": [
    "Lo hacemos siguiendo la documentación de numpy.random.Generator.choice, que se halla en:\n",
    "https://numpy.org/doc/stable/reference/random/generated/numpy.random.Generator.choice.html"
   ]
  },
  {
   "cell_type": "code",
   "execution_count": 27,
   "id": "d12a3aeb",
   "metadata": {},
   "outputs": [],
   "source": [
    "rng = np.random.default_rng()  # Esto es un objeto generador de números aleatorios."
   ]
  },
  {
   "cell_type": "code",
   "execution_count": 28,
   "id": "f7691420",
   "metadata": {},
   "outputs": [
    {
     "data": {
      "text/plain": [
       "numpy.random._generator.Generator"
      ]
     },
     "execution_count": 28,
     "metadata": {},
     "output_type": "execute_result"
    }
   ],
   "source": [
    "type(rng)"
   ]
  },
  {
   "cell_type": "code",
   "execution_count": 29,
   "id": "6f8e6a36",
   "metadata": {},
   "outputs": [],
   "source": [
    "muestra_aleatoria = rng.choice(horizontal_stack, 20, replace=False)  \n",
    "# Especificamos el array del que queremos muestras aleatorias, cuántas queremos, e indicamos que no se pueden repetir."
   ]
  },
  {
   "cell_type": "code",
   "execution_count": 30,
   "id": "565ab30e",
   "metadata": {},
   "outputs": [
    {
     "data": {
      "text/plain": [
       "array([[5.1, 3.7, 1.5, 0.4, 0. ],\n",
       "       [5.7, 4.4, 1.5, 0.4, 0. ],\n",
       "       [6.3, 2.5, 5. , 1.9, 2. ],\n",
       "       [4.4, 3.2, 1.3, 0.2, 0. ],\n",
       "       [5. , 3.5, 1.3, 0.3, 0. ],\n",
       "       [7.2, 3.6, 6.1, 2.5, 2. ],\n",
       "       [5.9, 3. , 4.2, 1.5, 1. ],\n",
       "       [5.7, 2.5, 5. , 2. , 2. ],\n",
       "       [5.5, 2.4, 3.7, 1. , 1. ],\n",
       "       [4.9, 3.1, 1.5, 0.1, 0. ],\n",
       "       [4.9, 2.5, 4.5, 1.7, 2. ],\n",
       "       [6.3, 2.9, 5.6, 1.8, 2. ],\n",
       "       [5. , 2. , 3.5, 1. , 1. ],\n",
       "       [6.8, 2.8, 4.8, 1.4, 1. ],\n",
       "       [6.2, 3.4, 5.4, 2.3, 2. ],\n",
       "       [6.1, 3. , 4.6, 1.4, 1. ],\n",
       "       [4.3, 3. , 1.1, 0.1, 0. ],\n",
       "       [5.8, 2.7, 5.1, 1.9, 2. ],\n",
       "       [5.1, 3.3, 1.7, 0.5, 0. ],\n",
       "       [4.9, 2.4, 3.3, 1. , 1. ]])"
      ]
     },
     "execution_count": 30,
     "metadata": {},
     "output_type": "execute_result"
    }
   ],
   "source": [
    "muestra_aleatoria"
   ]
  },
  {
   "cell_type": "markdown",
   "id": "56e54523",
   "metadata": {},
   "source": [
    "## Ejercicio 5:"
   ]
  },
  {
   "cell_type": "markdown",
   "id": "a33474c8",
   "metadata": {},
   "source": [
    "Crear una matriz que muestre:\n",
    "* La media de cada característica por especie.\n",
    "* La desviación estándar de cada característica por especie."
   ]
  },
  {
   "cell_type": "code",
   "execution_count": 68,
   "id": "8dfe8e25",
   "metadata": {},
   "outputs": [
    {
     "data": {
      "text/plain": [
       "array(['setosa', 'versicolor', 'virginica'], dtype='<U10')"
      ]
     },
     "execution_count": 68,
     "metadata": {},
     "output_type": "execute_result"
    }
   ],
   "source": [
    "# Hemos de tener en cuenta el número de \"target\" que corresponde a cada especie.\n",
    "iris['target_names']   # La numeración es 0 = 'setosa'; 1 = 'versicolor'; 2 = 'virginica'"
   ]
  },
  {
   "cell_type": "code",
   "execution_count": 31,
   "id": "d53d5f50",
   "metadata": {},
   "outputs": [],
   "source": [
    "# Creamos dos listas a las que añadiremos lo que nos pide el enunciado.\n",
    "medias_y_desviaciones = list()"
   ]
  },
  {
   "cell_type": "code",
   "execution_count": 32,
   "id": "c7a5ea64",
   "metadata": {},
   "outputs": [],
   "source": [
    "for i in range(0,3):  # Range de 0 a 3, así cubrimos las tres especies, numeradas como cero, uno y dos.\n",
    "    # Seleccionamos del array de origen \"horizontal_stack\" aquellas filas que corresponden a la especie \"i\".\n",
    "    # De esos registros, hacemos la media de cada columna de interés (por lo tanto usamos \"axis=0\").\n",
    "    # Esa media obtenida, la añadimos a la lista \"means\".\n",
    "    medias_y_desviaciones.append(horizontal_stack[horizontal_stack[:,4] == i].mean(axis = 0))\n",
    "    \n",
    "for i in range(0,3):\n",
    "    # Y lo mismo, para la lista \"standads\", pero calculando desviación estándar con la función std().\n",
    "    medias_y_desviaciones.append(horizontal_stack[horizontal_stack[:,4] == i].std(axis = 0))\n"
   ]
  },
  {
   "cell_type": "code",
   "execution_count": 33,
   "id": "45391ee4",
   "metadata": {},
   "outputs": [
    {
     "data": {
      "text/plain": [
       "[array([5.006, 3.428, 1.462, 0.246, 0.   ]),\n",
       " array([5.936, 2.77 , 4.26 , 1.326, 1.   ]),\n",
       " array([6.588, 2.974, 5.552, 2.026, 2.   ]),\n",
       " array([0.34894699, 0.37525458, 0.17191859, 0.10432641, 0.        ]),\n",
       " array([0.51098337, 0.31064449, 0.46518813, 0.19576517, 0.        ]),\n",
       " array([0.62948868, 0.31925538, 0.54634787, 0.27188968, 0.        ])]"
      ]
     },
     "execution_count": 33,
     "metadata": {},
     "output_type": "execute_result"
    }
   ],
   "source": [
    "# Ya tenemos una matriz con, primero las medias, y luego las desviaciones.\n",
    "medias_y_desviaciones"
   ]
  },
  {
   "cell_type": "code",
   "execution_count": 34,
   "id": "67d395c9",
   "metadata": {},
   "outputs": [
    {
     "data": {
      "text/plain": [
       "list"
      ]
     },
     "execution_count": 34,
     "metadata": {},
     "output_type": "execute_result"
    }
   ],
   "source": [
    "type(medias_y_desviaciones)"
   ]
  },
  {
   "cell_type": "code",
   "execution_count": 35,
   "id": "06f35036",
   "metadata": {},
   "outputs": [],
   "source": [
    "matriz = np.array(medias_y_desviaciones)"
   ]
  },
  {
   "cell_type": "code",
   "execution_count": 36,
   "id": "4d79d0ca",
   "metadata": {},
   "outputs": [],
   "source": [
    "matriz_med_desv = matriz[:,:4]  # Recortamos la última columna, que tal como estaba no da información coherente."
   ]
  },
  {
   "cell_type": "markdown",
   "id": "449c4bdc",
   "metadata": {},
   "source": [
    "Aquí tenemos el resultado que nos pedía el enunciado:"
   ]
  },
  {
   "cell_type": "code",
   "execution_count": 37,
   "id": "b44c910a",
   "metadata": {},
   "outputs": [
    {
     "data": {
      "text/plain": [
       "array([[5.006     , 3.428     , 1.462     , 0.246     ],\n",
       "       [5.936     , 2.77      , 4.26      , 1.326     ],\n",
       "       [6.588     , 2.974     , 5.552     , 2.026     ],\n",
       "       [0.34894699, 0.37525458, 0.17191859, 0.10432641],\n",
       "       [0.51098337, 0.31064449, 0.46518813, 0.19576517],\n",
       "       [0.62948868, 0.31925538, 0.54634787, 0.27188968]])"
      ]
     },
     "execution_count": 37,
     "metadata": {},
     "output_type": "execute_result"
    }
   ],
   "source": [
    "matriz_med_desv"
   ]
  },
  {
   "cell_type": "code",
   "execution_count": null,
   "id": "cb68ff33",
   "metadata": {},
   "outputs": [],
   "source": []
  },
  {
   "cell_type": "markdown",
   "id": "80047d98",
   "metadata": {},
   "source": [
    "## Ejercicio 6:"
   ]
  },
  {
   "cell_type": "markdown",
   "id": "fd3aa847",
   "metadata": {},
   "source": [
    "Calcular la cantidad de muestras por especie. Además, encontrar la especie con el mayor valor medio de la variable \"sepal length (cm)\"."
   ]
  },
  {
   "cell_type": "code",
   "execution_count": 38,
   "id": "a8cb11b1",
   "metadata": {},
   "outputs": [
    {
     "data": {
      "text/plain": [
       "array([[5.1, 3.5, 1.4, 0.2, 0. ],\n",
       "       [4.9, 3. , 1.4, 0.2, 0. ],\n",
       "       [4.7, 3.2, 1.3, 0.2, 0. ],\n",
       "       [4.6, 3.1, 1.5, 0.2, 0. ],\n",
       "       [5. , 3.6, 1.4, 0.2, 0. ],\n",
       "       [5.4, 3.9, 1.7, 0.4, 0. ],\n",
       "       [4.6, 3.4, 1.4, 0.3, 0. ],\n",
       "       [5. , 3.4, 1.5, 0.2, 0. ],\n",
       "       [4.4, 2.9, 1.4, 0.2, 0. ],\n",
       "       [4.9, 3.1, 1.5, 0.1, 0. ],\n",
       "       [5.4, 3.7, 1.5, 0.2, 0. ],\n",
       "       [4.8, 3.4, 1.6, 0.2, 0. ],\n",
       "       [4.8, 3. , 1.4, 0.1, 0. ],\n",
       "       [4.3, 3. , 1.1, 0.1, 0. ],\n",
       "       [5.8, 4. , 1.2, 0.2, 0. ],\n",
       "       [5.7, 4.4, 1.5, 0.4, 0. ],\n",
       "       [5.4, 3.9, 1.3, 0.4, 0. ],\n",
       "       [5.1, 3.5, 1.4, 0.3, 0. ],\n",
       "       [5.7, 3.8, 1.7, 0.3, 0. ],\n",
       "       [5.1, 3.8, 1.5, 0.3, 0. ],\n",
       "       [5.4, 3.4, 1.7, 0.2, 0. ],\n",
       "       [5.1, 3.7, 1.5, 0.4, 0. ],\n",
       "       [4.6, 3.6, 1. , 0.2, 0. ],\n",
       "       [5.1, 3.3, 1.7, 0.5, 0. ],\n",
       "       [4.8, 3.4, 1.9, 0.2, 0. ],\n",
       "       [5. , 3. , 1.6, 0.2, 0. ],\n",
       "       [5. , 3.4, 1.6, 0.4, 0. ],\n",
       "       [5.2, 3.5, 1.5, 0.2, 0. ],\n",
       "       [5.2, 3.4, 1.4, 0.2, 0. ],\n",
       "       [4.7, 3.2, 1.6, 0.2, 0. ],\n",
       "       [4.8, 3.1, 1.6, 0.2, 0. ],\n",
       "       [5.4, 3.4, 1.5, 0.4, 0. ],\n",
       "       [5.2, 4.1, 1.5, 0.1, 0. ],\n",
       "       [5.5, 4.2, 1.4, 0.2, 0. ],\n",
       "       [4.9, 3.1, 1.5, 0.2, 0. ],\n",
       "       [5. , 3.2, 1.2, 0.2, 0. ],\n",
       "       [5.5, 3.5, 1.3, 0.2, 0. ],\n",
       "       [4.9, 3.6, 1.4, 0.1, 0. ],\n",
       "       [4.4, 3. , 1.3, 0.2, 0. ],\n",
       "       [5.1, 3.4, 1.5, 0.2, 0. ],\n",
       "       [5. , 3.5, 1.3, 0.3, 0. ],\n",
       "       [4.5, 2.3, 1.3, 0.3, 0. ],\n",
       "       [4.4, 3.2, 1.3, 0.2, 0. ],\n",
       "       [5. , 3.5, 1.6, 0.6, 0. ],\n",
       "       [5.1, 3.8, 1.9, 0.4, 0. ],\n",
       "       [4.8, 3. , 1.4, 0.3, 0. ],\n",
       "       [5.1, 3.8, 1.6, 0.2, 0. ],\n",
       "       [4.6, 3.2, 1.4, 0.2, 0. ],\n",
       "       [5.3, 3.7, 1.5, 0.2, 0. ],\n",
       "       [5. , 3.3, 1.4, 0.2, 0. ],\n",
       "       [7. , 3.2, 4.7, 1.4, 1. ],\n",
       "       [6.4, 3.2, 4.5, 1.5, 1. ],\n",
       "       [6.9, 3.1, 4.9, 1.5, 1. ],\n",
       "       [5.5, 2.3, 4. , 1.3, 1. ],\n",
       "       [6.5, 2.8, 4.6, 1.5, 1. ],\n",
       "       [5.7, 2.8, 4.5, 1.3, 1. ],\n",
       "       [6.3, 3.3, 4.7, 1.6, 1. ],\n",
       "       [4.9, 2.4, 3.3, 1. , 1. ],\n",
       "       [6.6, 2.9, 4.6, 1.3, 1. ],\n",
       "       [5.2, 2.7, 3.9, 1.4, 1. ],\n",
       "       [5. , 2. , 3.5, 1. , 1. ],\n",
       "       [5.9, 3. , 4.2, 1.5, 1. ],\n",
       "       [6. , 2.2, 4. , 1. , 1. ],\n",
       "       [6.1, 2.9, 4.7, 1.4, 1. ],\n",
       "       [5.6, 2.9, 3.6, 1.3, 1. ],\n",
       "       [6.7, 3.1, 4.4, 1.4, 1. ],\n",
       "       [5.6, 3. , 4.5, 1.5, 1. ],\n",
       "       [5.8, 2.7, 4.1, 1. , 1. ],\n",
       "       [6.2, 2.2, 4.5, 1.5, 1. ],\n",
       "       [5.6, 2.5, 3.9, 1.1, 1. ],\n",
       "       [5.9, 3.2, 4.8, 1.8, 1. ],\n",
       "       [6.1, 2.8, 4. , 1.3, 1. ],\n",
       "       [6.3, 2.5, 4.9, 1.5, 1. ],\n",
       "       [6.1, 2.8, 4.7, 1.2, 1. ],\n",
       "       [6.4, 2.9, 4.3, 1.3, 1. ],\n",
       "       [6.6, 3. , 4.4, 1.4, 1. ],\n",
       "       [6.8, 2.8, 4.8, 1.4, 1. ],\n",
       "       [6.7, 3. , 5. , 1.7, 1. ],\n",
       "       [6. , 2.9, 4.5, 1.5, 1. ],\n",
       "       [5.7, 2.6, 3.5, 1. , 1. ],\n",
       "       [5.5, 2.4, 3.8, 1.1, 1. ],\n",
       "       [5.5, 2.4, 3.7, 1. , 1. ],\n",
       "       [5.8, 2.7, 3.9, 1.2, 1. ],\n",
       "       [6. , 2.7, 5.1, 1.6, 1. ],\n",
       "       [5.4, 3. , 4.5, 1.5, 1. ],\n",
       "       [6. , 3.4, 4.5, 1.6, 1. ],\n",
       "       [6.7, 3.1, 4.7, 1.5, 1. ],\n",
       "       [6.3, 2.3, 4.4, 1.3, 1. ],\n",
       "       [5.6, 3. , 4.1, 1.3, 1. ],\n",
       "       [5.5, 2.5, 4. , 1.3, 1. ],\n",
       "       [5.5, 2.6, 4.4, 1.2, 1. ],\n",
       "       [6.1, 3. , 4.6, 1.4, 1. ],\n",
       "       [5.8, 2.6, 4. , 1.2, 1. ],\n",
       "       [5. , 2.3, 3.3, 1. , 1. ],\n",
       "       [5.6, 2.7, 4.2, 1.3, 1. ],\n",
       "       [5.7, 3. , 4.2, 1.2, 1. ],\n",
       "       [5.7, 2.9, 4.2, 1.3, 1. ],\n",
       "       [6.2, 2.9, 4.3, 1.3, 1. ],\n",
       "       [5.1, 2.5, 3. , 1.1, 1. ],\n",
       "       [5.7, 2.8, 4.1, 1.3, 1. ],\n",
       "       [6.3, 3.3, 6. , 2.5, 2. ],\n",
       "       [5.8, 2.7, 5.1, 1.9, 2. ],\n",
       "       [7.1, 3. , 5.9, 2.1, 2. ],\n",
       "       [6.3, 2.9, 5.6, 1.8, 2. ],\n",
       "       [6.5, 3. , 5.8, 2.2, 2. ],\n",
       "       [7.6, 3. , 6.6, 2.1, 2. ],\n",
       "       [4.9, 2.5, 4.5, 1.7, 2. ],\n",
       "       [7.3, 2.9, 6.3, 1.8, 2. ],\n",
       "       [6.7, 2.5, 5.8, 1.8, 2. ],\n",
       "       [7.2, 3.6, 6.1, 2.5, 2. ],\n",
       "       [6.5, 3.2, 5.1, 2. , 2. ],\n",
       "       [6.4, 2.7, 5.3, 1.9, 2. ],\n",
       "       [6.8, 3. , 5.5, 2.1, 2. ],\n",
       "       [5.7, 2.5, 5. , 2. , 2. ],\n",
       "       [5.8, 2.8, 5.1, 2.4, 2. ],\n",
       "       [6.4, 3.2, 5.3, 2.3, 2. ],\n",
       "       [6.5, 3. , 5.5, 1.8, 2. ],\n",
       "       [7.7, 3.8, 6.7, 2.2, 2. ],\n",
       "       [7.7, 2.6, 6.9, 2.3, 2. ],\n",
       "       [6. , 2.2, 5. , 1.5, 2. ],\n",
       "       [6.9, 3.2, 5.7, 2.3, 2. ],\n",
       "       [5.6, 2.8, 4.9, 2. , 2. ],\n",
       "       [7.7, 2.8, 6.7, 2. , 2. ],\n",
       "       [6.3, 2.7, 4.9, 1.8, 2. ],\n",
       "       [6.7, 3.3, 5.7, 2.1, 2. ],\n",
       "       [7.2, 3.2, 6. , 1.8, 2. ],\n",
       "       [6.2, 2.8, 4.8, 1.8, 2. ],\n",
       "       [6.1, 3. , 4.9, 1.8, 2. ],\n",
       "       [6.4, 2.8, 5.6, 2.1, 2. ],\n",
       "       [7.2, 3. , 5.8, 1.6, 2. ],\n",
       "       [7.4, 2.8, 6.1, 1.9, 2. ],\n",
       "       [7.9, 3.8, 6.4, 2. , 2. ],\n",
       "       [6.4, 2.8, 5.6, 2.2, 2. ],\n",
       "       [6.3, 2.8, 5.1, 1.5, 2. ],\n",
       "       [6.1, 2.6, 5.6, 1.4, 2. ],\n",
       "       [7.7, 3. , 6.1, 2.3, 2. ],\n",
       "       [6.3, 3.4, 5.6, 2.4, 2. ],\n",
       "       [6.4, 3.1, 5.5, 1.8, 2. ],\n",
       "       [6. , 3. , 4.8, 1.8, 2. ],\n",
       "       [6.9, 3.1, 5.4, 2.1, 2. ],\n",
       "       [6.7, 3.1, 5.6, 2.4, 2. ],\n",
       "       [6.9, 3.1, 5.1, 2.3, 2. ],\n",
       "       [5.8, 2.7, 5.1, 1.9, 2. ],\n",
       "       [6.8, 3.2, 5.9, 2.3, 2. ],\n",
       "       [6.7, 3.3, 5.7, 2.5, 2. ],\n",
       "       [6.7, 3. , 5.2, 2.3, 2. ],\n",
       "       [6.3, 2.5, 5. , 1.9, 2. ],\n",
       "       [6.5, 3. , 5.2, 2. , 2. ],\n",
       "       [6.2, 3.4, 5.4, 2.3, 2. ],\n",
       "       [5.9, 3. , 5.1, 1.8, 2. ]])"
      ]
     },
     "execution_count": 38,
     "metadata": {},
     "output_type": "execute_result"
    }
   ],
   "source": [
    "horizontal_stack"
   ]
  },
  {
   "cell_type": "markdown",
   "id": "e14f07a9",
   "metadata": {},
   "source": [
    "Podemos ver que hay cincuenta muestras de cada especie:"
   ]
  },
  {
   "cell_type": "code",
   "execution_count": 39,
   "id": "6f7fc3bd",
   "metadata": {},
   "outputs": [
    {
     "name": "stdout",
     "output_type": "stream",
     "text": [
      "50\n",
      "50\n",
      "50\n"
     ]
    }
   ],
   "source": [
    "for i in range(0,3):   # Vemos el número de registros de la especie \"0\" (Setosa), la \"1\" (Versicolour) y la \"2\" (Virginica)\n",
    "    print(np.count_nonzero(horizontal_stack[:,4] == i))"
   ]
  },
  {
   "cell_type": "markdown",
   "id": "a4465e1b",
   "metadata": {},
   "source": [
    "De acuerdo al orden que tenían los elementos en el objeto \"numpy bunch\" llamado \"iris\", de donde hemos sacado los datos originales, la variable \"sepal length (cm)\" corresponde a la primera columna.\n",
    "También corresponde a la primera columna de la matriz que hemos creado en el ejercicio anterior, \"medias_y_desviaciones\"."
   ]
  },
  {
   "cell_type": "code",
   "execution_count": 40,
   "id": "1bfb9c48",
   "metadata": {},
   "outputs": [
    {
     "data": {
      "text/plain": [
       "array([[5.006     , 3.428     , 1.462     , 0.246     ],\n",
       "       [5.936     , 2.77      , 4.26      , 1.326     ],\n",
       "       [6.588     , 2.974     , 5.552     , 2.026     ],\n",
       "       [0.34894699, 0.37525458, 0.17191859, 0.10432641],\n",
       "       [0.51098337, 0.31064449, 0.46518813, 0.19576517],\n",
       "       [0.62948868, 0.31925538, 0.54634787, 0.27188968]])"
      ]
     },
     "execution_count": 40,
     "metadata": {},
     "output_type": "execute_result"
    }
   ],
   "source": [
    "matriz_med_desv\n"
   ]
  },
  {
   "cell_type": "markdown",
   "id": "230d977b",
   "metadata": {},
   "source": [
    "De observar la matriz, deducimos que la media más alta es la de la especie \"2\" (Virginica): 6,588 cm"
   ]
  },
  {
   "cell_type": "code",
   "execution_count": null,
   "id": "d35dd67c",
   "metadata": {},
   "outputs": [],
   "source": []
  },
  {
   "cell_type": "markdown",
   "id": "dcd2dd36",
   "metadata": {},
   "source": [
    "## Ejercicio 7"
   ]
  },
  {
   "cell_type": "markdown",
   "id": "012f6330",
   "metadata": {},
   "source": [
    "* Calcular la matriz de correlación entre las variables.\n",
    "\n",
    "* Filtrar los valores mayores que la media de la longitud de los pétalos y mostrarlos.\n",
    "\n",
    "* Encontrar la muestra con los pétalos más grandes."
   ]
  },
  {
   "cell_type": "markdown",
   "id": "47ca5c74",
   "metadata": {},
   "source": [
    "Comenzamos con el cálculo de la matriz de correlación."
   ]
  },
  {
   "cell_type": "code",
   "execution_count": 41,
   "id": "ac23268f",
   "metadata": {},
   "outputs": [],
   "source": [
    "matriz_correlacion = np.corrcoef(matriz_med_desv, rowvar=False)\n",
    "# Especificamos que no use las filas como variables (que es el comportamiento por defecto), sino las columnas."
   ]
  },
  {
   "cell_type": "code",
   "execution_count": 42,
   "id": "7588bf62",
   "metadata": {},
   "outputs": [
    {
     "data": {
      "text/plain": [
       "array([[1.        , 0.95692961, 0.89862715, 0.80873522],\n",
       "       [0.95692961, 1.        , 0.73524962, 0.61158953],\n",
       "       [0.89862715, 0.73524962, 1.        , 0.98284852],\n",
       "       [0.80873522, 0.61158953, 0.98284852, 1.        ]])"
      ]
     },
     "execution_count": 42,
     "metadata": {},
     "output_type": "execute_result"
    }
   ],
   "source": [
    "matriz_correlacion"
   ]
  },
  {
   "cell_type": "markdown",
   "id": "755d470d",
   "metadata": {},
   "source": [
    "Recordemos qué era cada variable:"
   ]
  },
  {
   "cell_type": "code",
   "execution_count": 43,
   "id": "aedee21a",
   "metadata": {},
   "outputs": [
    {
     "data": {
      "text/plain": [
       "['sepal length (cm)',\n",
       " 'sepal width (cm)',\n",
       " 'petal length (cm)',\n",
       " 'petal width (cm)']"
      ]
     },
     "execution_count": 43,
     "metadata": {},
     "output_type": "execute_result"
    }
   ],
   "source": [
    "iris['feature_names'] # El resultado nos dice, por orden, qué es cada fila y columna de la matriz.\n"
   ]
  },
  {
   "cell_type": "markdown",
   "id": "dc87ac76",
   "metadata": {},
   "source": [
    "Vemos en la matriz que la correlación más alta es entre la longitud de pétalo y su anchura."
   ]
  },
  {
   "cell_type": "markdown",
   "id": "fdfad72a",
   "metadata": {},
   "source": [
    "La segunda parte de este ejercicio nos pide que filtremos y mostremos los valores en función de si son mayores o no a la longitud media de los pétalos."
   ]
  },
  {
   "cell_type": "code",
   "execution_count": 44,
   "id": "b9e6cb87",
   "metadata": {},
   "outputs": [
    {
     "data": {
      "text/plain": [
       "array([[5.006     , 3.428     , 1.462     , 0.246     ],\n",
       "       [5.936     , 2.77      , 4.26      , 1.326     ],\n",
       "       [6.588     , 2.974     , 5.552     , 2.026     ],\n",
       "       [0.34894699, 0.37525458, 0.17191859, 0.10432641],\n",
       "       [0.51098337, 0.31064449, 0.46518813, 0.19576517],\n",
       "       [0.62948868, 0.31925538, 0.54634787, 0.27188968]])"
      ]
     },
     "execution_count": 44,
     "metadata": {},
     "output_type": "execute_result"
    }
   ],
   "source": [
    "matriz_med_desv"
   ]
  },
  {
   "cell_type": "code",
   "execution_count": 45,
   "id": "1889a97b",
   "metadata": {},
   "outputs": [],
   "source": [
    "medias_petalos = matriz_med_desv[0:3,2]\n",
    "# Usaremos los datos de las primeras tres filas (las medias), y la tercera columna (longitud de pétalo)."
   ]
  },
  {
   "cell_type": "code",
   "execution_count": 46,
   "id": "1518bb52",
   "metadata": {},
   "outputs": [
    {
     "data": {
      "text/plain": [
       "array([1.462, 4.26 , 5.552])"
      ]
     },
     "execution_count": 46,
     "metadata": {},
     "output_type": "execute_result"
    }
   ],
   "source": [
    "medias_petalos"
   ]
  },
  {
   "cell_type": "code",
   "execution_count": 47,
   "id": "b5516cde",
   "metadata": {},
   "outputs": [
    {
     "name": "stdout",
     "output_type": "stream",
     "text": [
      "Este valor de la especie número 0 es superior a su media, que es: 1.4620000000000002 cm.\n",
      "1.5\n",
      "Este valor de la especie número 0 es superior a su media, que es: 1.4620000000000002 cm.\n",
      "1.7\n",
      "Este valor de la especie número 0 es superior a su media, que es: 1.4620000000000002 cm.\n",
      "1.5\n",
      "Este valor de la especie número 0 es superior a su media, que es: 1.4620000000000002 cm.\n",
      "1.5\n",
      "Este valor de la especie número 0 es superior a su media, que es: 1.4620000000000002 cm.\n",
      "1.5\n",
      "Este valor de la especie número 0 es superior a su media, que es: 1.4620000000000002 cm.\n",
      "1.6\n",
      "Este valor de la especie número 0 es superior a su media, que es: 1.4620000000000002 cm.\n",
      "1.5\n",
      "Este valor de la especie número 0 es superior a su media, que es: 1.4620000000000002 cm.\n",
      "1.7\n",
      "Este valor de la especie número 0 es superior a su media, que es: 1.4620000000000002 cm.\n",
      "1.5\n",
      "Este valor de la especie número 0 es superior a su media, que es: 1.4620000000000002 cm.\n",
      "1.7\n",
      "Este valor de la especie número 0 es superior a su media, que es: 1.4620000000000002 cm.\n",
      "1.5\n",
      "Este valor de la especie número 0 es superior a su media, que es: 1.4620000000000002 cm.\n",
      "1.7\n",
      "Este valor de la especie número 0 es superior a su media, que es: 1.4620000000000002 cm.\n",
      "1.9\n",
      "Este valor de la especie número 0 es superior a su media, que es: 1.4620000000000002 cm.\n",
      "1.6\n",
      "Este valor de la especie número 0 es superior a su media, que es: 1.4620000000000002 cm.\n",
      "1.6\n",
      "Este valor de la especie número 0 es superior a su media, que es: 1.4620000000000002 cm.\n",
      "1.5\n",
      "Este valor de la especie número 0 es superior a su media, que es: 1.4620000000000002 cm.\n",
      "1.6\n",
      "Este valor de la especie número 0 es superior a su media, que es: 1.4620000000000002 cm.\n",
      "1.6\n",
      "Este valor de la especie número 0 es superior a su media, que es: 1.4620000000000002 cm.\n",
      "1.5\n",
      "Este valor de la especie número 0 es superior a su media, que es: 1.4620000000000002 cm.\n",
      "1.5\n",
      "Este valor de la especie número 0 es superior a su media, que es: 1.4620000000000002 cm.\n",
      "1.5\n",
      "Este valor de la especie número 0 es superior a su media, que es: 1.4620000000000002 cm.\n",
      "1.5\n",
      "Este valor de la especie número 0 es superior a su media, que es: 1.4620000000000002 cm.\n",
      "1.6\n",
      "Este valor de la especie número 0 es superior a su media, que es: 1.4620000000000002 cm.\n",
      "1.9\n",
      "Este valor de la especie número 0 es superior a su media, que es: 1.4620000000000002 cm.\n",
      "1.6\n",
      "Este valor de la especie número 0 es superior a su media, que es: 1.4620000000000002 cm.\n",
      "1.5\n",
      "Este valor de la especie número 1 es superior a su media, que es: 4.26 cm.\n",
      "4.7\n",
      "Este valor de la especie número 1 es superior a su media, que es: 4.26 cm.\n",
      "4.5\n",
      "Este valor de la especie número 1 es superior a su media, que es: 4.26 cm.\n",
      "4.9\n",
      "Este valor de la especie número 1 es superior a su media, que es: 4.26 cm.\n",
      "4.6\n",
      "Este valor de la especie número 1 es superior a su media, que es: 4.26 cm.\n",
      "4.5\n",
      "Este valor de la especie número 1 es superior a su media, que es: 4.26 cm.\n",
      "4.7\n",
      "Este valor de la especie número 1 es superior a su media, que es: 4.26 cm.\n",
      "4.6\n",
      "Este valor de la especie número 1 es superior a su media, que es: 4.26 cm.\n",
      "4.7\n",
      "Este valor de la especie número 1 es superior a su media, que es: 4.26 cm.\n",
      "4.4\n",
      "Este valor de la especie número 1 es superior a su media, que es: 4.26 cm.\n",
      "4.5\n",
      "Este valor de la especie número 1 es superior a su media, que es: 4.26 cm.\n",
      "4.5\n",
      "Este valor de la especie número 1 es superior a su media, que es: 4.26 cm.\n",
      "4.8\n",
      "Este valor de la especie número 1 es superior a su media, que es: 4.26 cm.\n",
      "4.9\n",
      "Este valor de la especie número 1 es superior a su media, que es: 4.26 cm.\n",
      "4.7\n",
      "Este valor de la especie número 1 es superior a su media, que es: 4.26 cm.\n",
      "4.3\n",
      "Este valor de la especie número 1 es superior a su media, que es: 4.26 cm.\n",
      "4.4\n",
      "Este valor de la especie número 1 es superior a su media, que es: 4.26 cm.\n",
      "4.8\n",
      "Este valor de la especie número 1 es superior a su media, que es: 4.26 cm.\n",
      "5.0\n",
      "Este valor de la especie número 1 es superior a su media, que es: 4.26 cm.\n",
      "4.5\n",
      "Este valor de la especie número 1 es superior a su media, que es: 4.26 cm.\n",
      "5.1\n",
      "Este valor de la especie número 1 es superior a su media, que es: 4.26 cm.\n",
      "4.5\n",
      "Este valor de la especie número 1 es superior a su media, que es: 4.26 cm.\n",
      "4.5\n",
      "Este valor de la especie número 1 es superior a su media, que es: 4.26 cm.\n",
      "4.7\n",
      "Este valor de la especie número 1 es superior a su media, que es: 4.26 cm.\n",
      "4.4\n",
      "Este valor de la especie número 1 es superior a su media, que es: 4.26 cm.\n",
      "4.4\n",
      "Este valor de la especie número 1 es superior a su media, que es: 4.26 cm.\n",
      "4.6\n",
      "Este valor de la especie número 1 es superior a su media, que es: 4.26 cm.\n",
      "4.3\n",
      "Este valor de la especie número 2 es superior a su media, que es: 5.552 cm.\n",
      "6.0\n",
      "Este valor de la especie número 2 es superior a su media, que es: 5.552 cm.\n",
      "5.9\n",
      "Este valor de la especie número 2 es superior a su media, que es: 5.552 cm.\n",
      "5.6\n",
      "Este valor de la especie número 2 es superior a su media, que es: 5.552 cm.\n",
      "5.8\n",
      "Este valor de la especie número 2 es superior a su media, que es: 5.552 cm.\n",
      "6.6\n",
      "Este valor de la especie número 2 es superior a su media, que es: 5.552 cm.\n",
      "6.3\n",
      "Este valor de la especie número 2 es superior a su media, que es: 5.552 cm.\n",
      "5.8\n",
      "Este valor de la especie número 2 es superior a su media, que es: 5.552 cm.\n",
      "6.1\n",
      "Este valor de la especie número 2 es superior a su media, que es: 5.552 cm.\n",
      "6.7\n",
      "Este valor de la especie número 2 es superior a su media, que es: 5.552 cm.\n",
      "6.9\n",
      "Este valor de la especie número 2 es superior a su media, que es: 5.552 cm.\n",
      "5.7\n",
      "Este valor de la especie número 2 es superior a su media, que es: 5.552 cm.\n",
      "6.7\n",
      "Este valor de la especie número 2 es superior a su media, que es: 5.552 cm.\n",
      "5.7\n",
      "Este valor de la especie número 2 es superior a su media, que es: 5.552 cm.\n",
      "6.0\n",
      "Este valor de la especie número 2 es superior a su media, que es: 5.552 cm.\n",
      "5.6\n",
      "Este valor de la especie número 2 es superior a su media, que es: 5.552 cm.\n",
      "5.8\n",
      "Este valor de la especie número 2 es superior a su media, que es: 5.552 cm.\n",
      "6.1\n",
      "Este valor de la especie número 2 es superior a su media, que es: 5.552 cm.\n",
      "6.4\n",
      "Este valor de la especie número 2 es superior a su media, que es: 5.552 cm.\n",
      "5.6\n",
      "Este valor de la especie número 2 es superior a su media, que es: 5.552 cm.\n",
      "5.6\n",
      "Este valor de la especie número 2 es superior a su media, que es: 5.552 cm.\n",
      "6.1\n",
      "Este valor de la especie número 2 es superior a su media, que es: 5.552 cm.\n",
      "5.6\n",
      "Este valor de la especie número 2 es superior a su media, que es: 5.552 cm.\n",
      "5.6\n",
      "Este valor de la especie número 2 es superior a su media, que es: 5.552 cm.\n",
      "5.9\n",
      "Este valor de la especie número 2 es superior a su media, que es: 5.552 cm.\n",
      "5.7\n"
     ]
    }
   ],
   "source": [
    "mayores_q_media=[]\n",
    "\n",
    "for i in range(0,150):\n",
    "    for j in range(0,3):\n",
    "        if horizontal_stack[i][4] == j:\n",
    "            if horizontal_stack[i][2] > medias_petalos[j]:\n",
    "                print(\"Este valor de la especie número \" + str(j) + \" es superior a su media, que es: \" + str(medias_petalos[j]) + \" cm.\")\n",
    "                print(horizontal_stack[i][2])\n",
    "        \n",
    "        "
   ]
  },
  {
   "cell_type": "markdown",
   "id": "968c27d2",
   "metadata": {},
   "source": [
    "Se nos pregunta cuál es la especie con los pétalos más grandes."
   ]
  },
  {
   "cell_type": "code",
   "execution_count": 48,
   "id": "f83df7aa",
   "metadata": {},
   "outputs": [
    {
     "data": {
      "text/plain": [
       "array([[5.006     , 3.428     , 1.462     , 0.246     ],\n",
       "       [5.936     , 2.77      , 4.26      , 1.326     ],\n",
       "       [6.588     , 2.974     , 5.552     , 2.026     ],\n",
       "       [0.34894699, 0.37525458, 0.17191859, 0.10432641],\n",
       "       [0.51098337, 0.31064449, 0.46518813, 0.19576517],\n",
       "       [0.62948868, 0.31925538, 0.54634787, 0.27188968]])"
      ]
     },
     "execution_count": 48,
     "metadata": {},
     "output_type": "execute_result"
    }
   ],
   "source": [
    "matriz_med_desv"
   ]
  },
  {
   "cell_type": "markdown",
   "id": "052f8f7b",
   "metadata": {},
   "source": [
    "Dado que no sabemos la forma exacta de la flor, podríamos hacer la siguiente aproximación para responder: considerar la flor una forma geométrica, por ejemplo, un rectángulo con lado alto igual a la longitud de pétalo, y con lado corto igual a la anchura de pétalo."
   ]
  },
  {
   "cell_type": "code",
   "execution_count": 49,
   "id": "d7af54ad",
   "metadata": {},
   "outputs": [
    {
     "name": "stdout",
     "output_type": "stream",
     "text": [
      "Para la especie 0 podemos estimar un área promedio de 0.3596519999999999cm^2.\n",
      "Para la especie 1 podemos estimar un área promedio de 5.648759999999999cm^2.\n",
      "Para la especie 2 podemos estimar un área promedio de 11.248351999999999cm^2.\n"
     ]
    }
   ],
   "source": [
    "for i in range(0,3):\n",
    "    print(\"Para la especie \" + str(i) + \" podemos estimar un área promedio de \" + str(matriz_med_desv[i][2]*matriz_med_desv[i][3]) + \"cm^2.\")"
   ]
  },
  {
   "cell_type": "markdown",
   "id": "8e24a7c2",
   "metadata": {},
   "source": [
    "Si damos por válida la premisa de nuestra aproximación, podemos argumentar que la especie \"2\" (Virginica) es la que tiene pétalos más grandes. "
   ]
  },
  {
   "cell_type": "code",
   "execution_count": null,
   "id": "09c7f8a0",
   "metadata": {},
   "outputs": [],
   "source": []
  },
  {
   "cell_type": "markdown",
   "id": "65816932",
   "metadata": {},
   "source": [
    "## Ejercicio 8"
   ]
  },
  {
   "cell_type": "markdown",
   "id": "20557c12",
   "metadata": {},
   "source": [
    "Encontrar la especie con la mayor diferencia entre la longitud media de pétalos y sépalos."
   ]
  },
  {
   "cell_type": "code",
   "execution_count": 51,
   "id": "bcb0979d",
   "metadata": {},
   "outputs": [
    {
     "data": {
      "text/plain": [
       "array([[5.006     , 3.428     , 1.462     , 0.246     ],\n",
       "       [5.936     , 2.77      , 4.26      , 1.326     ],\n",
       "       [6.588     , 2.974     , 5.552     , 2.026     ],\n",
       "       [0.34894699, 0.37525458, 0.17191859, 0.10432641],\n",
       "       [0.51098337, 0.31064449, 0.46518813, 0.19576517],\n",
       "       [0.62948868, 0.31925538, 0.54634787, 0.27188968]])"
      ]
     },
     "execution_count": 51,
     "metadata": {},
     "output_type": "execute_result"
    }
   ],
   "source": [
    "matriz_med_desv"
   ]
  },
  {
   "cell_type": "code",
   "execution_count": 67,
   "id": "936d5f58",
   "metadata": {},
   "outputs": [
    {
     "name": "stdout",
     "output_type": "stream",
     "text": [
      "La expecie con mayor diferencia entre longitud de pétalos y sépalos es la 0.\n"
     ]
    }
   ],
   "source": [
    "dif_max = 0\n",
    "especie_dif_max=0\n",
    "\n",
    "for i in range(0,3):\n",
    "    if (matriz_med_desv[i][0]-matriz_med_desv[i][2]) > dif_max:\n",
    "        dif_max = matriz_med_desv[i][0]-matriz_med_desv[i][2]\n",
    "        especie_dif_max = i\n",
    "\n",
    "print(\"La expecie con mayor diferencia entre longitud de pétalos y sépalos es la \" + str(especie_dif_max) + \".\")\n"
   ]
  },
  {
   "cell_type": "code",
   "execution_count": null,
   "id": "61188261",
   "metadata": {},
   "outputs": [],
   "source": [
    "Deducimos que la especie con la mayor diferencia entre pétalos y sépalos es la cero (\"Setosa\")."
   ]
  },
  {
   "cell_type": "code",
   "execution_count": null,
   "id": "05a9acb8",
   "metadata": {},
   "outputs": [],
   "source": []
  }
 ],
 "metadata": {
  "kernelspec": {
   "display_name": "Python 3 (ipykernel)",
   "language": "python",
   "name": "python3"
  },
  "language_info": {
   "codemirror_mode": {
    "name": "ipython",
    "version": 3
   },
   "file_extension": ".py",
   "mimetype": "text/x-python",
   "name": "python",
   "nbconvert_exporter": "python",
   "pygments_lexer": "ipython3",
   "version": "3.8.13"
  }
 },
 "nbformat": 4,
 "nbformat_minor": 5
}
